{
  "nbformat": 4,
  "nbformat_minor": 0,
  "metadata": {
    "colab": {
      "provenance": [],
      "collapsed_sections": [
        "kFatGf0H1hYx",
        "nZNdPYhF8vMd",
        "lf3UI16Zxt3e",
        "RRTJy59SyMhL",
        "PW5jevgi-SPP",
        "7kTvGit0-bDG",
        "QgFDK3X9-sLP",
        "mGLP5SfkuOmE",
        "8HI3m214-3is",
        "ChfUc-ydtXRk",
        "9KsByXRDuWG_",
        "mZ1cDwrbvgmX",
        "RoBXb5zD2TCN",
        "yVSe4ouFExrS",
        "GlJ09AuJEuyv",
        "fyuR9TfJE5fY",
        "5sZaoHsBFVaX",
        "k9PSpUOpFy_X",
        "soQfjJRBGXKD",
        "UgbA1i6aLvlE",
        "fUmih5vwMjhv"
      ]
    },
    "kernelspec": {
      "name": "python3",
      "display_name": "Python 3"
    },
    "language_info": {
      "name": "python"
    }
  },
  "cells": [
    {
      "cell_type": "markdown",
      "source": [
        "#  <h1 align=\"center\"><font size=\"7\">PyTorch Secsion 1</font></h1>\n"
      ],
      "metadata": {
        "id": "8ui7xUH5EbUQ"
      }
    },
    {
      "cell_type": "markdown",
      "source": [
        "## Libraries"
      ],
      "metadata": {
        "id": "kFatGf0H1hYx"
      }
    },
    {
      "cell_type": "code",
      "execution_count": 1,
      "metadata": {
        "id": "2PY6Ix9h1JRl"
      },
      "outputs": [],
      "source": [
        "# These are the libraries will be used.\n",
        "\n",
        "import torch            # PyTorch Library.\n",
        "import numpy as np \n",
        "import pandas as pd\n",
        "\n",
        "import matplotlib.pyplot as plt\n",
        "%matplotlib inline "
      ]
    },
    {
      "cell_type": "code",
      "source": [
        "#notice: Disable all warnings \n",
        "import warnings\n",
        "warnings.filterwarnings('ignore')"
      ],
      "metadata": {
        "id": "igaSinPjrgeq"
      },
      "execution_count": 2,
      "outputs": []
    },
    {
      "cell_type": "code",
      "source": [
        "# Check PyTorch version\n",
        "\n",
        "torch.__version__"
      ],
      "metadata": {
        "colab": {
          "base_uri": "https://localhost:8080/",
          "height": 0
        },
        "id": "kqESR8Vn11Cy",
        "outputId": "dc5be215-95bd-4e33-c859-089f12bbef83"
      },
      "execution_count": 3,
      "outputs": [
        {
          "output_type": "execute_result",
          "data": {
            "text/plain": [
              "'1.13.1+cu116'"
            ],
            "application/vnd.google.colaboratory.intrinsic+json": {
              "type": "string"
            }
          },
          "metadata": {},
          "execution_count": 3
        }
      ]
    },
    {
      "cell_type": "markdown",
      "source": [
        "## Operations"
      ],
      "metadata": {
        "id": "nZNdPYhF8vMd"
      }
    },
    {
      "cell_type": "markdown",
      "source": [
        "### Creating Tensors"
      ],
      "metadata": {
        "id": "lf3UI16Zxt3e"
      }
    },
    {
      "cell_type": "code",
      "source": [
        "# The simplest way to create a tensor is with the torch.empty() call:\n",
        "x = torch.empty(3, 4)\n",
        "print(x)"
      ],
      "metadata": {
        "colab": {
          "base_uri": "https://localhost:8080/"
        },
        "id": "KL5ds-8lxvAi",
        "outputId": "af3f5798-1a51-4ae5-8c70-349537d7b133"
      },
      "execution_count": 4,
      "outputs": [
        {
          "output_type": "stream",
          "name": "stdout",
          "text": [
            "tensor([[0., 0., 0., 0.],\n",
            "        [0., 0., 0., 0.],\n",
            "        [0., 0., 0., 0.]])\n"
          ]
        }
      ]
    },
    {
      "cell_type": "code",
      "source": [
        "zeros = torch.zeros(2, 3)\n",
        "print(zeros)"
      ],
      "metadata": {
        "colab": {
          "base_uri": "https://localhost:8080/"
        },
        "id": "jJ50DPpMxyHE",
        "outputId": "7cf5aaec-2116-4099-e643-ce23a211f5dd"
      },
      "execution_count": 5,
      "outputs": [
        {
          "output_type": "stream",
          "name": "stdout",
          "text": [
            "tensor([[0., 0., 0.],\n",
            "        [0., 0., 0.]])\n"
          ]
        }
      ]
    },
    {
      "cell_type": "code",
      "source": [
        "ones = torch.ones(2, 3)\n",
        "print(ones)"
      ],
      "metadata": {
        "colab": {
          "base_uri": "https://localhost:8080/"
        },
        "id": "zk9UPZLxxyDr",
        "outputId": "9587e9d3-8ee0-4a08-8c03-93bfa0ddc13a"
      },
      "execution_count": 6,
      "outputs": [
        {
          "output_type": "stream",
          "name": "stdout",
          "text": [
            "tensor([[1., 1., 1.],\n",
            "        [1., 1., 1.]])\n"
          ]
        }
      ]
    },
    {
      "cell_type": "markdown",
      "source": [
        "### Random Tensors and Seeding"
      ],
      "metadata": {
        "id": "RRTJy59SyMhL"
      }
    },
    {
      "cell_type": "code",
      "source": [
        "torch.manual_seed(1729)\n",
        "random = torch.rand(2, 3)\n",
        "print(random)"
      ],
      "metadata": {
        "colab": {
          "base_uri": "https://localhost:8080/"
        },
        "id": "2JHE63mfxyBr",
        "outputId": "0bba2a4c-46f3-43e7-f193-61caba85926b"
      },
      "execution_count": 7,
      "outputs": [
        {
          "output_type": "stream",
          "name": "stdout",
          "text": [
            "tensor([[0.3126, 0.3791, 0.3087],\n",
            "        [0.0736, 0.4216, 0.0691]])\n"
          ]
        }
      ]
    },
    {
      "cell_type": "code",
      "source": [
        "torch.manual_seed(1729)\n",
        "random1 = torch.rand(2, 3)\n",
        "print(random1)"
      ],
      "metadata": {
        "colab": {
          "base_uri": "https://localhost:8080/"
        },
        "id": "kA7t2jloxx_T",
        "outputId": "4062c381-adb4-4ab6-a68d-418c513f35b1"
      },
      "execution_count": 8,
      "outputs": [
        {
          "output_type": "stream",
          "name": "stdout",
          "text": [
            "tensor([[0.3126, 0.3791, 0.3087],\n",
            "        [0.0736, 0.4216, 0.0691]])\n"
          ]
        }
      ]
    },
    {
      "cell_type": "code",
      "source": [
        "random2 = torch.rand(2, 3)\n",
        "print(random2)"
      ],
      "metadata": {
        "colab": {
          "base_uri": "https://localhost:8080/"
        },
        "id": "stNAc5j0xx9S",
        "outputId": "d2127e02-234a-47af-bf4a-d33ff280f3a5"
      },
      "execution_count": 9,
      "outputs": [
        {
          "output_type": "stream",
          "name": "stdout",
          "text": [
            "tensor([[0.2332, 0.4047, 0.2162],\n",
            "        [0.9927, 0.4128, 0.5938]])\n"
          ]
        }
      ]
    },
    {
      "cell_type": "code",
      "source": [
        "torch.manual_seed(1729)\n",
        "random3 = torch.rand(2, 3)\n",
        "print(random3)"
      ],
      "metadata": {
        "colab": {
          "base_uri": "https://localhost:8080/"
        },
        "id": "atgRIQ5yxx7D",
        "outputId": "ee1153c7-e6b3-4f77-e71f-92fd05f89e53"
      },
      "execution_count": 10,
      "outputs": [
        {
          "output_type": "stream",
          "name": "stdout",
          "text": [
            "tensor([[0.3126, 0.3791, 0.3087],\n",
            "        [0.0736, 0.4216, 0.0691]])\n"
          ]
        }
      ]
    },
    {
      "cell_type": "code",
      "source": [
        "random4 = torch.rand(2, 3)\n",
        "print(random4)"
      ],
      "metadata": {
        "colab": {
          "base_uri": "https://localhost:8080/"
        },
        "id": "uYfdfCKKxx5I",
        "outputId": "e22e6c38-4bcd-4428-d264-1e22e8f268a1"
      },
      "execution_count": 11,
      "outputs": [
        {
          "output_type": "stream",
          "name": "stdout",
          "text": [
            "tensor([[0.2332, 0.4047, 0.2162],\n",
            "        [0.9927, 0.4128, 0.5938]])\n"
          ]
        }
      ]
    },
    {
      "cell_type": "markdown",
      "source": [
        "### Arithmetic operations"
      ],
      "metadata": {
        "id": "PW5jevgi-SPP"
      }
    },
    {
      "cell_type": "code",
      "source": [
        "# create an vector A\n",
        "A = torch.tensor([958, 521, 80, 75, 65, 528, 745])\n",
        "A"
      ],
      "metadata": {
        "colab": {
          "base_uri": "https://localhost:8080/"
        },
        "id": "TkaiUqhj8waL",
        "outputId": "63a83955-003a-46cf-9c90-3081b237a4d3"
      },
      "execution_count": 12,
      "outputs": [
        {
          "output_type": "execute_result",
          "data": {
            "text/plain": [
              "tensor([958, 521,  80,  75,  65, 528, 745])"
            ]
          },
          "metadata": {},
          "execution_count": 12
        }
      ]
    },
    {
      "cell_type": "code",
      "source": [
        "# create an vector B\n",
        "B = torch.tensor([100, 120, 140, 160, 180, 253, 855])\n",
        "B"
      ],
      "metadata": {
        "colab": {
          "base_uri": "https://localhost:8080/"
        },
        "id": "jLkekKPj8-5a",
        "outputId": "4c3d405e-450d-4041-fd1f-930946b8db5c"
      },
      "execution_count": 13,
      "outputs": [
        {
          "output_type": "execute_result",
          "data": {
            "text/plain": [
              "tensor([100, 120, 140, 160, 180, 253, 855])"
            ]
          },
          "metadata": {},
          "execution_count": 13
        }
      ]
    },
    {
      "cell_type": "code",
      "source": [
        "# add two vectors\n",
        "print(\"Addition of two vectors:\", A+B)"
      ],
      "metadata": {
        "colab": {
          "base_uri": "https://localhost:8080/"
        },
        "id": "ip8FK5Rr8-18",
        "outputId": "a27eb427-f40b-49cf-9873-0c1a2e1cdc1e"
      },
      "execution_count": 14,
      "outputs": [
        {
          "output_type": "stream",
          "name": "stdout",
          "text": [
            "Addition of two vectors: tensor([1058,  641,  220,  235,  245,  781, 1600])\n"
          ]
        }
      ]
    },
    {
      "cell_type": "code",
      "source": [
        "# subtract two vectors\n",
        "print(\"subtraction of two vectors:\", A-B)"
      ],
      "metadata": {
        "colab": {
          "base_uri": "https://localhost:8080/"
        },
        "id": "ecrkDd338-zz",
        "outputId": "463cf0e0-6e2a-4fb2-ff7e-bdf697000b1c"
      },
      "execution_count": 15,
      "outputs": [
        {
          "output_type": "stream",
          "name": "stdout",
          "text": [
            "subtraction of two vectors: tensor([ 858,  401,  -60,  -85, -115,  275, -110])\n"
          ]
        }
      ]
    },
    {
      "cell_type": "code",
      "source": [
        "# multiply two vectors\n",
        "print(\"multiplication of two vectors:\", A*B)"
      ],
      "metadata": {
        "colab": {
          "base_uri": "https://localhost:8080/"
        },
        "id": "a4T3IIIj8-ro",
        "outputId": "95fdc130-de6b-4526-8b3b-1fe7a25233b8"
      },
      "execution_count": 16,
      "outputs": [
        {
          "output_type": "stream",
          "name": "stdout",
          "text": [
            "multiplication of two vectors: tensor([ 95800,  62520,  11200,  12000,  11700, 133584, 636975])\n"
          ]
        }
      ]
    },
    {
      "cell_type": "code",
      "source": [
        "# divide two vectors\n",
        "print(\"division of two vectors:\", A/B)"
      ],
      "metadata": {
        "colab": {
          "base_uri": "https://localhost:8080/"
        },
        "id": "TDm95mIS8-oE",
        "outputId": "ca310e2d-82e1-40da-b1c8-d295cf7a8d4f"
      },
      "execution_count": 17,
      "outputs": [
        {
          "output_type": "stream",
          "name": "stdout",
          "text": [
            "division of two vectors: tensor([9.5800, 4.3417, 0.5714, 0.4688, 0.3611, 2.0870, 0.8713])\n"
          ]
        }
      ]
    },
    {
      "cell_type": "code",
      "source": [
        "# floor divide two vectors\n",
        "print(\"floor division of two vectors:\", A//B)"
      ],
      "metadata": {
        "colab": {
          "base_uri": "https://localhost:8080/"
        },
        "id": "BRsYJZ8g9bKd",
        "outputId": "df475969-56dd-4b9a-a5d7-b716b2602a8f"
      },
      "execution_count": 18,
      "outputs": [
        {
          "output_type": "stream",
          "name": "stdout",
          "text": [
            "floor division of two vectors: tensor([9, 4, 0, 0, 0, 2, 0])\n"
          ]
        }
      ]
    },
    {
      "cell_type": "code",
      "source": [
        "# modulus of two vectors\n",
        "print(\"modulus operation of two vectors:\", A % B)"
      ],
      "metadata": {
        "colab": {
          "base_uri": "https://localhost:8080/"
        },
        "id": "mXeX7Ur79bG_",
        "outputId": "a4a4c898-6101-4b8b-9129-54204bfd951d"
      },
      "execution_count": 19,
      "outputs": [
        {
          "output_type": "stream",
          "name": "stdout",
          "text": [
            "modulus operation of two vectors: tensor([ 58,  41,  80,  75,  65,  22, 745])\n"
          ]
        }
      ]
    },
    {
      "cell_type": "code",
      "source": [
        "# power of two vectors\n",
        "print(\"power operation of two vectors:\", A**B)"
      ],
      "metadata": {
        "colab": {
          "base_uri": "https://localhost:8080/"
        },
        "id": "Z6QRzfNw9bEN",
        "outputId": "e06765fd-133c-4fd5-bd42-7e54b3ea79da"
      },
      "execution_count": 20,
      "outputs": [
        {
          "output_type": "stream",
          "name": "stdout",
          "text": [
            "power operation of two vectors: tensor([                   0,  8057394984629378241,                    0,\n",
            "        -3914416216730512511, -6150789214318424831,                    0,\n",
            "         5134412841133442073])\n"
          ]
        }
      ]
    },
    {
      "cell_type": "markdown",
      "source": [
        "### Unary operations"
      ],
      "metadata": {
        "id": "7kTvGit0-bDG"
      }
    },
    {
      "cell_type": "markdown",
      "source": [
        "It is similar to arithmetic operations except that the other vector part is replaced by a constant."
      ],
      "metadata": {
        "id": "CydV6Z5A-irg"
      }
    },
    {
      "cell_type": "code",
      "source": [
        "# divide vector by 2\n",
        "print(A/2)"
      ],
      "metadata": {
        "colab": {
          "base_uri": "https://localhost:8080/"
        },
        "id": "3BAHacqt9bB2",
        "outputId": "ad1028eb-ef4d-46a4-a2fa-59dc73119d06"
      },
      "execution_count": 21,
      "outputs": [
        {
          "output_type": "stream",
          "name": "stdout",
          "text": [
            "tensor([479.0000, 260.5000,  40.0000,  37.5000,  32.5000, 264.0000, 372.5000])\n"
          ]
        }
      ]
    },
    {
      "cell_type": "code",
      "source": [
        "# multiply vector by 2\n",
        "print(A*2)"
      ],
      "metadata": {
        "colab": {
          "base_uri": "https://localhost:8080/"
        },
        "id": "ZSqvXLvR91z-",
        "outputId": "d8c02971-6f5b-4820-ce95-3c381c441f8d"
      },
      "execution_count": 22,
      "outputs": [
        {
          "output_type": "stream",
          "name": "stdout",
          "text": [
            "tensor([1916, 1042,  160,  150,  130, 1056, 1490])\n"
          ]
        }
      ]
    },
    {
      "cell_type": "code",
      "source": [
        "# subtract  vector by 2\n",
        "print(A-2)"
      ],
      "metadata": {
        "colab": {
          "base_uri": "https://localhost:8080/"
        },
        "id": "Yn4Vqcfu91wj",
        "outputId": "1485d37d-b8a6-4f51-a89b-aab565f6d630"
      },
      "execution_count": 23,
      "outputs": [
        {
          "output_type": "stream",
          "name": "stdout",
          "text": [
            "tensor([956, 519,  78,  73,  63, 526, 743])\n"
          ]
        }
      ]
    },
    {
      "cell_type": "markdown",
      "source": [
        "### Dot product"
      ],
      "metadata": {
        "id": "QgFDK3X9-sLP"
      }
    },
    {
      "cell_type": "markdown",
      "source": [
        "dot() is used to get the dot product. The vectors in consideration just need to be passed to it."
      ],
      "metadata": {
        "id": "ECssWA5H-uGp"
      }
    },
    {
      "cell_type": "code",
      "source": [
        "# dot product of the two vectors\n",
        "print(torch.dot(A, B))"
      ],
      "metadata": {
        "colab": {
          "base_uri": "https://localhost:8080/"
        },
        "id": "f-XLaOTE91um",
        "outputId": "06a88ed2-56a6-44af-d643-0959fc5e7e76"
      },
      "execution_count": 24,
      "outputs": [
        {
          "output_type": "stream",
          "name": "stdout",
          "text": [
            "tensor(963779)\n"
          ]
        }
      ]
    },
    {
      "cell_type": "markdown",
      "source": [
        "## Indexing and Slicing"
      ],
      "metadata": {
        "id": "SultyTWkuu7a"
      }
    },
    {
      "cell_type": "code",
      "source": [
        "# A tensor for showing how the indexs work on tensors\n",
        "\n",
        "index_tensor = torch.tensor([0, 1, 2, 3, 4])\n",
        "print(\"The value on index 0:\",index_tensor[0])\n",
        "print(\"The value on index 1:\",index_tensor[1])\n",
        "print(\"The value on index 2:\",index_tensor[2])\n",
        "print(\"The value on index 3:\",index_tensor[3])\n",
        "print(\"The value on index 4:\",index_tensor[4])"
      ],
      "metadata": {
        "colab": {
          "base_uri": "https://localhost:8080/"
        },
        "id": "wD4FNRqTuv34",
        "outputId": "251da3e3-bd31-46e8-80fd-96039d59b27c"
      },
      "execution_count": 25,
      "outputs": [
        {
          "output_type": "stream",
          "name": "stdout",
          "text": [
            "The value on index 0: tensor(0)\n",
            "The value on index 1: tensor(1)\n",
            "The value on index 2: tensor(2)\n",
            "The value on index 3: tensor(3)\n",
            "The value on index 4: tensor(4)\n"
          ]
        }
      ]
    },
    {
      "cell_type": "code",
      "source": [
        "# A tensor for showing how to change value according to the index\n",
        "\n",
        "tensor_sample = torch.tensor([20, 1, 2, 3, 4])"
      ],
      "metadata": {
        "id": "V3W68WBn0F3N"
      },
      "execution_count": 26,
      "outputs": []
    },
    {
      "cell_type": "code",
      "source": [
        "# Change the value on the index 0 to 100\n",
        "\n",
        "print(\"Inital value on index 0:\", tensor_sample[0])\n",
        "tensor_sample[0] = 100\n",
        "print(\"Modified tensor:\", tensor_sample)"
      ],
      "metadata": {
        "colab": {
          "base_uri": "https://localhost:8080/"
        },
        "id": "43l2v8zhu1Kt",
        "outputId": "e884ca5e-066f-4b98-ce86-9940bb879ec8"
      },
      "execution_count": 27,
      "outputs": [
        {
          "output_type": "stream",
          "name": "stdout",
          "text": [
            "Inital value on index 0: tensor(20)\n",
            "Modified tensor: tensor([100,   1,   2,   3,   4])\n"
          ]
        }
      ]
    },
    {
      "cell_type": "code",
      "source": [
        "# Change the value on the index 4 to 0\n",
        "\n",
        "print(\"Inital value on index 4:\", tensor_sample[4])\n",
        "tensor_sample[4] = 0\n",
        "print(\"Modified tensor:\", tensor_sample)"
      ],
      "metadata": {
        "colab": {
          "base_uri": "https://localhost:8080/"
        },
        "id": "B3CAZIWYu4h3",
        "outputId": "8f7d0615-d5ac-473c-d213-9adac14ba28d"
      },
      "execution_count": 28,
      "outputs": [
        {
          "output_type": "stream",
          "name": "stdout",
          "text": [
            "Inital value on index 4: tensor(4)\n",
            "Modified tensor: tensor([100,   1,   2,   3,   0])\n"
          ]
        }
      ]
    },
    {
      "cell_type": "code",
      "source": [
        "# Slice tensor_sample\n",
        "\n",
        "subset_tensor_sample = tensor_sample[1:4]\n",
        "print(\"Original tensor sample: \", tensor_sample)\n",
        "print(\"The subset of tensor sample:\", subset_tensor_sample)"
      ],
      "metadata": {
        "colab": {
          "base_uri": "https://localhost:8080/"
        },
        "id": "sPgT8YOcu4ed",
        "outputId": "7842d0c1-810a-467e-96cb-49d7da38b468"
      },
      "execution_count": 29,
      "outputs": [
        {
          "output_type": "stream",
          "name": "stdout",
          "text": [
            "Original tensor sample:  tensor([100,   1,   2,   3,   0])\n",
            "The subset of tensor sample: tensor([1, 2, 3])\n"
          ]
        }
      ]
    },
    {
      "cell_type": "code",
      "source": [
        "# Change the values on index 3 and index 4\n",
        "\n",
        "print(\"Inital value on index 3 and index 4:\", tensor_sample[3:5])\n",
        "tensor_sample[3:5] = torch.tensor([300.0, 400.0])\n",
        "print(\"Modified tensor:\", tensor_sample)"
      ],
      "metadata": {
        "colab": {
          "base_uri": "https://localhost:8080/"
        },
        "id": "ApzURhc-u4cz",
        "outputId": "80d7439e-6548-4c97-99e8-1fcac7a8f7b0"
      },
      "execution_count": 30,
      "outputs": [
        {
          "output_type": "stream",
          "name": "stdout",
          "text": [
            "Inital value on index 3 and index 4: tensor([3, 0])\n",
            "Modified tensor: tensor([100,   1,   2, 300, 400])\n"
          ]
        }
      ]
    },
    {
      "cell_type": "code",
      "source": [
        "# Using variable to contain the selected index, and pass it to slice operation\n",
        "\n",
        "selected_indexes = [3, 4]\n",
        "subset_tensor_sample = tensor_sample[selected_indexes]\n",
        "print(\"The inital tensor_sample\", tensor_sample)\n",
        "print(\"The subset of tensor_sample with the values on index 3 and 4: \", subset_tensor_sample)"
      ],
      "metadata": {
        "colab": {
          "base_uri": "https://localhost:8080/"
        },
        "id": "Xn1-_KZqvDS6",
        "outputId": "fa65fdbd-4751-44cf-f984-f3f59e83d28d"
      },
      "execution_count": 31,
      "outputs": [
        {
          "output_type": "stream",
          "name": "stdout",
          "text": [
            "The inital tensor_sample tensor([100,   1,   2, 300, 400])\n",
            "The subset of tensor_sample with the values on index 3 and 4:  tensor([300, 400])\n"
          ]
        }
      ]
    },
    {
      "cell_type": "code",
      "source": [
        "#Using variable to assign the value to the selected indexes\n",
        "\n",
        "print(\"The inital tensor_sample\", tensor_sample)\n",
        "selected_indexes = [1, 3]\n",
        "tensor_sample[selected_indexes] = 100000\n",
        "print(\"Modified tensor with one value: \", tensor_sample)"
      ],
      "metadata": {
        "colab": {
          "base_uri": "https://localhost:8080/"
        },
        "id": "DFC0LZPCvDKr",
        "outputId": "6cb73fc5-b638-4220-8d11-06e9eaff6ac3"
      },
      "execution_count": 32,
      "outputs": [
        {
          "output_type": "stream",
          "name": "stdout",
          "text": [
            "The inital tensor_sample tensor([100,   1,   2, 300, 400])\n",
            "Modified tensor with one value:  tensor([   100, 100000,      2, 100000,    400])\n"
          ]
        }
      ]
    },
    {
      "cell_type": "code",
      "source": [
        "# Practice: Change the values on index 3, 4, 7 to 0\n",
        "\n",
        "practice_tensor = torch.tensor([2, 7, 3, 4, 6, 2, 3, 1, 2])"
      ],
      "metadata": {
        "id": "s-I-oO7-vKd7"
      },
      "execution_count": 33,
      "outputs": []
    },
    {
      "cell_type": "code",
      "source": [
        "selected_indexes = [3, 4, 7]\n",
        "practice_tensor[selected_indexes] = 0\n",
        "print(\"New Practice Tensor: \", practice_tensor)"
      ],
      "metadata": {
        "colab": {
          "base_uri": "https://localhost:8080/"
        },
        "id": "xpZ7L_oYvPXm",
        "outputId": "a9876daf-002b-40e0-f576-0d26b56119b8"
      },
      "execution_count": 34,
      "outputs": [
        {
          "output_type": "stream",
          "name": "stdout",
          "text": [
            "New Practice Tensor:  tensor([2, 7, 3, 0, 0, 2, 3, 0, 2])\n"
          ]
        }
      ]
    },
    {
      "cell_type": "markdown",
      "source": [
        "## Tensor Functions"
      ],
      "metadata": {
        "id": "mGLP5SfkuOmE"
      }
    },
    {
      "cell_type": "markdown",
      "source": [
        "### Linspace function"
      ],
      "metadata": {
        "id": "8HI3m214-3is"
      }
    },
    {
      "cell_type": "markdown",
      "source": [
        "linspace is used to arrange data linearly in the given space. It is available in the torch package and using linspace() function with values for start and end are enough."
      ],
      "metadata": {
        "id": "QM_2TC6j-7JJ"
      }
    },
    {
      "cell_type": "markdown",
      "source": [
        "torch.linspace(start, end, steps, *, out=None, dtype=None, layout=torch.strided, device=None, requires_grad=False) → Tensor"
      ],
      "metadata": {
        "id": "i-jCZ_eyAvmU"
      }
    },
    {
      "cell_type": "code",
      "source": [
        "# arrange the elements from 0 to 50\n",
        "print(torch.linspace(0, 50, 50))"
      ],
      "metadata": {
        "colab": {
          "base_uri": "https://localhost:8080/"
        },
        "id": "nhWoAli_91sC",
        "outputId": "ca85d1e9-2fd1-4b6f-fbbd-ebf070334278"
      },
      "execution_count": 35,
      "outputs": [
        {
          "output_type": "stream",
          "name": "stdout",
          "text": [
            "tensor([ 0.0000,  1.0204,  2.0408,  3.0612,  4.0816,  5.1020,  6.1224,  7.1429,\n",
            "         8.1633,  9.1837, 10.2041, 11.2245, 12.2449, 13.2653, 14.2857, 15.3061,\n",
            "        16.3265, 17.3469, 18.3673, 19.3878, 20.4082, 21.4286, 22.4490, 23.4694,\n",
            "        24.4898, 25.5102, 26.5306, 27.5510, 28.5714, 29.5918, 30.6122, 31.6327,\n",
            "        32.6531, 33.6735, 34.6939, 35.7143, 36.7347, 37.7551, 38.7755, 39.7959,\n",
            "        40.8163, 41.8367, 42.8571, 43.8776, 44.8980, 45.9184, 46.9388, 47.9592,\n",
            "        48.9796, 50.0000])\n"
          ]
        }
      ]
    },
    {
      "cell_type": "code",
      "source": [
        "print(torch.linspace(0, 50, 10))"
      ],
      "metadata": {
        "colab": {
          "base_uri": "https://localhost:8080/"
        },
        "id": "4L8BKOQtBOc_",
        "outputId": "8be45eba-1f42-4ce2-b207-43ce79efd864"
      },
      "execution_count": 36,
      "outputs": [
        {
          "output_type": "stream",
          "name": "stdout",
          "text": [
            "tensor([ 0.0000,  5.5556, 11.1111, 16.6667, 22.2222, 27.7778, 33.3333, 38.8889,\n",
            "        44.4444, 50.0000])\n"
          ]
        }
      ]
    },
    {
      "cell_type": "code",
      "source": [
        "print(torch.linspace(0, 50, 1))"
      ],
      "metadata": {
        "colab": {
          "base_uri": "https://localhost:8080/"
        },
        "id": "qYjANKpvBOUa",
        "outputId": "9b95e2c4-1d4b-408b-ce4a-d9ead214f62c"
      },
      "execution_count": 37,
      "outputs": [
        {
          "output_type": "stream",
          "name": "stdout",
          "text": [
            "tensor([0.])\n"
          ]
        }
      ]
    },
    {
      "cell_type": "code",
      "source": [
        "print(torch.linspace(0, 50, 11))"
      ],
      "metadata": {
        "colab": {
          "base_uri": "https://localhost:8080/"
        },
        "id": "vdZIVs4xBONU",
        "outputId": "bc3032cb-2ed5-4f89-c855-9f2499b59d33"
      },
      "execution_count": 38,
      "outputs": [
        {
          "output_type": "stream",
          "name": "stdout",
          "text": [
            "tensor([ 0.,  5., 10., 15., 20., 25., 30., 35., 40., 45., 50.])\n"
          ]
        }
      ]
    },
    {
      "cell_type": "code",
      "source": [
        "print(torch.linspace(0, 50, 20))"
      ],
      "metadata": {
        "colab": {
          "base_uri": "https://localhost:8080/"
        },
        "id": "iMaANCV7BOGe",
        "outputId": "39de9d8b-1c93-4a3f-e7d1-164728d65b9d"
      },
      "execution_count": 39,
      "outputs": [
        {
          "output_type": "stream",
          "name": "stdout",
          "text": [
            "tensor([ 0.0000,  2.6316,  5.2632,  7.8947, 10.5263, 13.1579, 15.7895, 18.4211,\n",
            "        21.0526, 23.6842, 26.3158, 28.9474, 31.5789, 34.2105, 36.8421, 39.4737,\n",
            "        42.1053, 44.7368, 47.3684, 50.0000])\n"
          ]
        }
      ]
    },
    {
      "cell_type": "code",
      "source": [
        "print(torch.linspace(0, 50, 80))"
      ],
      "metadata": {
        "colab": {
          "base_uri": "https://localhost:8080/"
        },
        "id": "mGsHg1HABN_M",
        "outputId": "0994319c-d5a8-4c66-a00a-df7c79661ecc"
      },
      "execution_count": 40,
      "outputs": [
        {
          "output_type": "stream",
          "name": "stdout",
          "text": [
            "tensor([ 0.0000,  0.6329,  1.2658,  1.8987,  2.5316,  3.1646,  3.7975,  4.4304,\n",
            "         5.0633,  5.6962,  6.3291,  6.9620,  7.5949,  8.2278,  8.8608,  9.4937,\n",
            "        10.1266, 10.7595, 11.3924, 12.0253, 12.6582, 13.2911, 13.9241, 14.5570,\n",
            "        15.1899, 15.8228, 16.4557, 17.0886, 17.7215, 18.3544, 18.9873, 19.6203,\n",
            "        20.2532, 20.8861, 21.5190, 22.1519, 22.7848, 23.4177, 24.0506, 24.6835,\n",
            "        25.3165, 25.9494, 26.5823, 27.2152, 27.8481, 28.4810, 29.1139, 29.7468,\n",
            "        30.3797, 31.0127, 31.6456, 32.2785, 32.9114, 33.5443, 34.1772, 34.8101,\n",
            "        35.4430, 36.0760, 36.7089, 37.3418, 37.9747, 38.6076, 39.2405, 39.8734,\n",
            "        40.5063, 41.1392, 41.7722, 42.4051, 43.0380, 43.6709, 44.3038, 44.9367,\n",
            "        45.5696, 46.2025, 46.8354, 47.4684, 48.1013, 48.7342, 49.3671, 50.0000])\n"
          ]
        }
      ]
    },
    {
      "cell_type": "code",
      "source": [
        "print(torch.linspace(0, 50, 120))"
      ],
      "metadata": {
        "colab": {
          "base_uri": "https://localhost:8080/"
        },
        "id": "8zorfpthBfGX",
        "outputId": "d09ba32c-5311-47c1-aa31-02741e4bb29b"
      },
      "execution_count": 41,
      "outputs": [
        {
          "output_type": "stream",
          "name": "stdout",
          "text": [
            "tensor([ 0.0000,  0.4202,  0.8403,  1.2605,  1.6807,  2.1008,  2.5210,  2.9412,\n",
            "         3.3613,  3.7815,  4.2017,  4.6218,  5.0420,  5.4622,  5.8824,  6.3025,\n",
            "         6.7227,  7.1429,  7.5630,  7.9832,  8.4034,  8.8235,  9.2437,  9.6639,\n",
            "        10.0840, 10.5042, 10.9244, 11.3445, 11.7647, 12.1849, 12.6050, 13.0252,\n",
            "        13.4454, 13.8655, 14.2857, 14.7059, 15.1261, 15.5462, 15.9664, 16.3866,\n",
            "        16.8067, 17.2269, 17.6471, 18.0672, 18.4874, 18.9076, 19.3277, 19.7479,\n",
            "        20.1681, 20.5882, 21.0084, 21.4286, 21.8487, 22.2689, 22.6891, 23.1092,\n",
            "        23.5294, 23.9496, 24.3697, 24.7899, 25.2101, 25.6303, 26.0504, 26.4706,\n",
            "        26.8908, 27.3109, 27.7311, 28.1513, 28.5714, 28.9916, 29.4118, 29.8319,\n",
            "        30.2521, 30.6723, 31.0924, 31.5126, 31.9328, 32.3529, 32.7731, 33.1933,\n",
            "        33.6134, 34.0336, 34.4538, 34.8740, 35.2941, 35.7143, 36.1345, 36.5546,\n",
            "        36.9748, 37.3950, 37.8151, 38.2353, 38.6555, 39.0756, 39.4958, 39.9160,\n",
            "        40.3361, 40.7563, 41.1765, 41.5966, 42.0168, 42.4370, 42.8571, 43.2773,\n",
            "        43.6975, 44.1176, 44.5378, 44.9580, 45.3782, 45.7983, 46.2185, 46.6387,\n",
            "        47.0588, 47.4790, 47.8992, 48.3193, 48.7395, 49.1597, 49.5798, 50.0000])\n"
          ]
        }
      ]
    },
    {
      "cell_type": "code",
      "source": [
        "a = torch.linspace(3, 10, 5)\n",
        "print(\"a = \", a)"
      ],
      "metadata": {
        "colab": {
          "base_uri": "https://localhost:8080/"
        },
        "id": "8nC_d3Qr_YGB",
        "outputId": "98fa874a-2d63-4822-d51d-6cdb8347d9b2"
      },
      "execution_count": 42,
      "outputs": [
        {
          "output_type": "stream",
          "name": "stdout",
          "text": [
            "a =  tensor([ 3.0000,  4.7500,  6.5000,  8.2500, 10.0000])\n"
          ]
        }
      ]
    },
    {
      "cell_type": "code",
      "source": [
        "b = torch.linspace(start =-10, end = 10, steps = 5)\n",
        "print(\"b = \", b)"
      ],
      "metadata": {
        "colab": {
          "base_uri": "https://localhost:8080/"
        },
        "id": "byN3QB9j_YCi",
        "outputId": "d488f1d5-70d8-47bd-a41f-115ff07e0dca"
      },
      "execution_count": 43,
      "outputs": [
        {
          "output_type": "stream",
          "name": "stdout",
          "text": [
            "b =  tensor([-10.,  -5.,   0.,   5.,  10.])\n"
          ]
        }
      ]
    },
    {
      "cell_type": "code",
      "source": [
        "torch.linspace(3, 10, steps=5)"
      ],
      "metadata": {
        "colab": {
          "base_uri": "https://localhost:8080/"
        },
        "id": "2x-vCwW4_YAa",
        "outputId": "37dbea9b-ac34-4340-8957-1a9930ecc958"
      },
      "execution_count": 44,
      "outputs": [
        {
          "output_type": "execute_result",
          "data": {
            "text/plain": [
              "tensor([ 3.0000,  4.7500,  6.5000,  8.2500, 10.0000])"
            ]
          },
          "metadata": {},
          "execution_count": 44
        }
      ]
    },
    {
      "cell_type": "code",
      "source": [
        "torch.linspace(-10, 10, steps=5)"
      ],
      "metadata": {
        "colab": {
          "base_uri": "https://localhost:8080/"
        },
        "id": "7p4grdjr_X-F",
        "outputId": "10d15883-7f7b-4a6a-83f7-7dfadde2658e"
      },
      "execution_count": 45,
      "outputs": [
        {
          "output_type": "execute_result",
          "data": {
            "text/plain": [
              "tensor([-10.,  -5.,   0.,   5.,  10.])"
            ]
          },
          "metadata": {},
          "execution_count": 45
        }
      ]
    },
    {
      "cell_type": "code",
      "source": [
        "torch.linspace(start=-10, end=10, steps=5)"
      ],
      "metadata": {
        "colab": {
          "base_uri": "https://localhost:8080/"
        },
        "id": "dJVdF5u7_X6w",
        "outputId": "3a2af6bb-4e8f-42f3-ab55-d941d4867ec6"
      },
      "execution_count": 46,
      "outputs": [
        {
          "output_type": "execute_result",
          "data": {
            "text/plain": [
              "tensor([-10.,  -5.,   0.,   5.,  10.])"
            ]
          },
          "metadata": {},
          "execution_count": 46
        }
      ]
    },
    {
      "cell_type": "code",
      "source": [
        "torch.linspace(start=-10, end=10, steps=1)"
      ],
      "metadata": {
        "colab": {
          "base_uri": "https://localhost:8080/"
        },
        "id": "g-zz3AhD_X41",
        "outputId": "da1e641d-d0b6-4520-d3d4-6c9fa342da67"
      },
      "execution_count": 47,
      "outputs": [
        {
          "output_type": "execute_result",
          "data": {
            "text/plain": [
              "tensor([-10.])"
            ]
          },
          "metadata": {},
          "execution_count": 47
        }
      ]
    },
    {
      "cell_type": "code",
      "source": [
        "# We Use Here range() function it will do similary as linespace().\n",
        "[x / 10.0 for x in range(5, 50, 15)]"
      ],
      "metadata": {
        "colab": {
          "base_uri": "https://localhost:8080/"
        },
        "id": "ktTlRIg_8-lN",
        "outputId": "d2b4a8ed-4b11-4e71-b1bf-59b2f6912046"
      },
      "execution_count": 48,
      "outputs": [
        {
          "output_type": "execute_result",
          "data": {
            "text/plain": [
              "[0.5, 2.0, 3.5]"
            ]
          },
          "metadata": {},
          "execution_count": 48
        }
      ]
    },
    {
      "cell_type": "code",
      "source": [
        "# First try on using linspace to create tensor\n",
        "\n",
        "len_5_tensor = torch.linspace(-2, 2, steps = 5)\n",
        "print (\"First Try on linspace\", len_5_tensor)"
      ],
      "metadata": {
        "colab": {
          "base_uri": "https://localhost:8080/"
        },
        "id": "LASzk9JFs3Dt",
        "outputId": "b7f326b2-b143-4d90-b938-f7e9ed28d4cd"
      },
      "execution_count": 49,
      "outputs": [
        {
          "output_type": "stream",
          "name": "stdout",
          "text": [
            "First Try on linspace tensor([-2., -1.,  0.,  1.,  2.])\n"
          ]
        }
      ]
    },
    {
      "cell_type": "code",
      "source": [
        "# Second try on using linspace to create tensor\n",
        "\n",
        "len_9_tensor = torch.linspace(-2, 2, steps = 9)\n",
        "print (\"Second Try on linspace\", len_9_tensor)"
      ],
      "metadata": {
        "colab": {
          "base_uri": "https://localhost:8080/"
        },
        "id": "n0mFJl98s23u",
        "outputId": "fcdcd0da-6d2d-40bb-f23b-14ed7af4686a"
      },
      "execution_count": 50,
      "outputs": [
        {
          "output_type": "stream",
          "name": "stdout",
          "text": [
            "Second Try on linspace tensor([-2.0000, -1.5000, -1.0000, -0.5000,  0.0000,  0.5000,  1.0000,  1.5000,\n",
            "         2.0000])\n"
          ]
        }
      ]
    },
    {
      "cell_type": "code",
      "source": [
        "# Construct the tensor within 0 to 360 degree\n",
        "\n",
        "pi_tensor = torch.linspace(0, 2*np.pi, 100)\n",
        "sin_result = torch.sin(pi_tensor)"
      ],
      "metadata": {
        "id": "rri58bKrssp_"
      },
      "execution_count": 51,
      "outputs": []
    },
    {
      "cell_type": "code",
      "source": [
        "# Plot sin_result\n",
        "\n",
        "plt.plot(pi_tensor.numpy(), sin_result.numpy())"
      ],
      "metadata": {
        "colab": {
          "base_uri": "https://localhost:8080/",
          "height": 0
        },
        "id": "x0HeZh2isxEZ",
        "outputId": "48cdbc2b-ca36-4e3a-fa57-4639a31fdc34"
      },
      "execution_count": 52,
      "outputs": [
        {
          "output_type": "execute_result",
          "data": {
            "text/plain": [
              "[<matplotlib.lines.Line2D at 0x7f12d5626a90>]"
            ]
          },
          "metadata": {},
          "execution_count": 52
        },
        {
          "output_type": "display_data",
          "data": {
            "text/plain": [
              "<Figure size 432x288 with 1 Axes>"
            ],
            "image/png": "[encoded data removed]"
          },
          "metadata": {
            "needs_background": "light"
          }
        }
      ]
    },
    {
      "cell_type": "markdown",
      "source": [
        "### Max and Min"
      ],
      "metadata": {
        "id": "ChfUc-ydtXRk"
      }
    },
    {
      "cell_type": "markdown",
      "source": [
        "Now, you'll review another two useful methods: tensor_obj.max() and tensor_obj.min(). These two methods are used for finding the maximum value and the minimum value in the tensor."
      ],
      "metadata": {
        "id": "aCa3bPx-tdr3"
      }
    },
    {
      "cell_type": "code",
      "source": [
        "# Sample for introducing max and min methods\n",
        "# Create a max_min_tensor:\n",
        "\n",
        "max_min_tensor = torch.tensor([1, 1, 3, 5, 5])\n",
        "print(\"Tensor example: \", max_min_tensor)"
      ],
      "metadata": {
        "colab": {
          "base_uri": "https://localhost:8080/"
        },
        "id": "LfeJTux3tYrt",
        "outputId": "4bda917a-836c-461c-9863-a7c787c6d164"
      },
      "execution_count": 53,
      "outputs": [
        {
          "output_type": "stream",
          "name": "stdout",
          "text": [
            "Tensor example:  tensor([1, 1, 3, 5, 5])\n"
          ]
        }
      ]
    },
    {
      "cell_type": "code",
      "source": [
        "# Method for finding the maximum value in the tensor\n",
        "# Apply tensor_obj.max() on max_min_tensor:\n",
        "\n",
        "max_val = max_min_tensor.max()\n",
        "print(\"Maximum number in the tensor: \", max_val)"
      ],
      "metadata": {
        "colab": {
          "base_uri": "https://localhost:8080/"
        },
        "id": "S1vmG2S_tna5",
        "outputId": "3ff7b72a-4a33-4524-f6eb-570b669a32cb"
      },
      "execution_count": 54,
      "outputs": [
        {
          "output_type": "stream",
          "name": "stdout",
          "text": [
            "Maximum number in the tensor:  tensor(5)\n"
          ]
        }
      ]
    },
    {
      "cell_type": "code",
      "source": [
        " max_min_tensor.max()"
      ],
      "metadata": {
        "colab": {
          "base_uri": "https://localhost:8080/"
        },
        "id": "6SLUTqsUtr7t",
        "outputId": "f66ab2b9-0ef6-49cf-fa55-9942c5938379"
      },
      "execution_count": 55,
      "outputs": [
        {
          "output_type": "execute_result",
          "data": {
            "text/plain": [
              "tensor(5)"
            ]
          },
          "metadata": {},
          "execution_count": 55
        }
      ]
    },
    {
      "cell_type": "code",
      "source": [
        "# Method for finding the minimum value in the tensor\n",
        "# Use tensor_obj.min() on max_min_tensor:\n",
        "\n",
        "min_val = max_min_tensor.min()\n",
        "print(\"Minimum number in the tensor: \", min_val)"
      ],
      "metadata": {
        "colab": {
          "base_uri": "https://localhost:8080/"
        },
        "id": "9BlHQqa0t2qj",
        "outputId": "609f299f-4c3f-4587-cfca-a69b0f861b56"
      },
      "execution_count": 56,
      "outputs": [
        {
          "output_type": "stream",
          "name": "stdout",
          "text": [
            "Minimum number in the tensor:  tensor(1)\n"
          ]
        }
      ]
    },
    {
      "cell_type": "markdown",
      "source": [
        "### Mean and Standard Deviation"
      ],
      "metadata": {
        "id": "9KsByXRDuWG_"
      }
    },
    {
      "cell_type": "code",
      "source": [
        "# Sample tensor for mathmatic calculation methods on tensor\n",
        "\n",
        "math_tensor = torch.tensor([1.0, -1.0, 1, -1])\n",
        "print(\"Tensor example: \", math_tensor)"
      ],
      "metadata": {
        "colab": {
          "base_uri": "https://localhost:8080/"
        },
        "id": "frVr9hD1uXH-",
        "outputId": "cdc4d002-60da-4ad7-8471-f93b783dc88d"
      },
      "execution_count": 57,
      "outputs": [
        {
          "output_type": "stream",
          "name": "stdout",
          "text": [
            "Tensor example:  tensor([ 1., -1.,  1., -1.])\n"
          ]
        }
      ]
    },
    {
      "cell_type": "code",
      "source": [
        "#Calculate the mean for math_tensor\n",
        "\n",
        "mean = math_tensor.mean()\n",
        "print(\"The mean of math_tensor: \", mean)"
      ],
      "metadata": {
        "colab": {
          "base_uri": "https://localhost:8080/"
        },
        "id": "1nwZ97pXug4o",
        "outputId": "61c82699-9276-417f-ff8a-56fd53da14fc"
      },
      "execution_count": 58,
      "outputs": [
        {
          "output_type": "stream",
          "name": "stdout",
          "text": [
            "The mean of math_tensor:  tensor(0.)\n"
          ]
        }
      ]
    },
    {
      "cell_type": "code",
      "source": [
        "#Calculate the standard deviation for math_tensor\n",
        "\n",
        "standard_deviation = math_tensor.std()\n",
        "print(\"The standard deviation of math_tensor: \", standard_deviation)"
      ],
      "metadata": {
        "colab": {
          "base_uri": "https://localhost:8080/"
        },
        "id": "oIhCc89Luhqo",
        "outputId": "ae529255-3c7b-4980-8f34-d08351f26acd"
      },
      "execution_count": 59,
      "outputs": [
        {
          "output_type": "stream",
          "name": "stdout",
          "text": [
            "The standard deviation of math_tensor:  tensor(1.1547)\n"
          ]
        }
      ]
    },
    {
      "cell_type": "markdown",
      "source": [
        "## Types and Shape"
      ],
      "metadata": {
        "id": "mZ1cDwrbvgmX"
      }
    },
    {
      "cell_type": "code",
      "source": [
        "x = torch.empty(2, 2, 3)\n",
        "print(x.shape)\n",
        "print(x)"
      ],
      "metadata": {
        "colab": {
          "base_uri": "https://localhost:8080/"
        },
        "id": "LFV0RS4_yYuO",
        "outputId": "8ebd81a7-307e-43e8-b3e1-03b724ad0452"
      },
      "execution_count": 60,
      "outputs": [
        {
          "output_type": "stream",
          "name": "stdout",
          "text": [
            "torch.Size([2, 2, 3])\n",
            "tensor([[[3.7798e-35, 0.0000e+00, 3.7792e-35],\n",
            "         [0.0000e+00, 8.9683e-44, 0.0000e+00]],\n",
            "\n",
            "        [[1.1210e-43, 0.0000e+00, 1.4877e-34],\n",
            "         [0.0000e+00, 1.4013e-45, 0.0000e+00]]])\n"
          ]
        }
      ]
    },
    {
      "cell_type": "code",
      "source": [
        "empty_like_x = torch.empty_like(x)\n",
        "print(empty_like_x.shape)\n",
        "print(empty_like_x)"
      ],
      "metadata": {
        "colab": {
          "base_uri": "https://localhost:8080/"
        },
        "id": "1zVlWfe7yYq1",
        "outputId": "7378f007-387b-4abd-979d-d42eed34b53f"
      },
      "execution_count": 61,
      "outputs": [
        {
          "output_type": "stream",
          "name": "stdout",
          "text": [
            "torch.Size([2, 2, 3])\n",
            "tensor([[[-6.6035e-25,  4.5586e-41, -6.3885e-25],\n",
            "         [ 4.5586e-41, -4.5169e-25,  4.5586e-41]],\n",
            "\n",
            "        [[ 1.4013e-45,  0.0000e+00,  8.4078e-45],\n",
            "         [ 0.0000e+00,  0.0000e+00,  0.0000e+00]]])\n"
          ]
        }
      ]
    },
    {
      "cell_type": "code",
      "source": [
        "zeros_like_x = torch.zeros_like(x)\n",
        "print(zeros_like_x.shape)\n",
        "print(zeros_like_x)"
      ],
      "metadata": {
        "colab": {
          "base_uri": "https://localhost:8080/"
        },
        "id": "MC-K7RU8yYon",
        "outputId": "4b9a53ef-e9d4-48c5-8052-262acbf0c76b"
      },
      "execution_count": 62,
      "outputs": [
        {
          "output_type": "stream",
          "name": "stdout",
          "text": [
            "torch.Size([2, 2, 3])\n",
            "tensor([[[0., 0., 0.],\n",
            "         [0., 0., 0.]],\n",
            "\n",
            "        [[0., 0., 0.],\n",
            "         [0., 0., 0.]]])\n"
          ]
        }
      ]
    },
    {
      "cell_type": "code",
      "source": [
        "ones_like_x = torch.ones_like(x)\n",
        "print(ones_like_x.shape)\n",
        "print(ones_like_x)"
      ],
      "metadata": {
        "colab": {
          "base_uri": "https://localhost:8080/"
        },
        "id": "yIfJ5ivnyYmO",
        "outputId": "ab0b9cd4-7fa3-4c7a-90e3-38f827362833"
      },
      "execution_count": 63,
      "outputs": [
        {
          "output_type": "stream",
          "name": "stdout",
          "text": [
            "torch.Size([2, 2, 3])\n",
            "tensor([[[1., 1., 1.],\n",
            "         [1., 1., 1.]],\n",
            "\n",
            "        [[1., 1., 1.],\n",
            "         [1., 1., 1.]]])\n"
          ]
        }
      ]
    },
    {
      "cell_type": "code",
      "source": [
        "rand_like_x = torch.rand_like(x)\n",
        "print(rand_like_x.shape)\n",
        "print(rand_like_x)"
      ],
      "metadata": {
        "colab": {
          "base_uri": "https://localhost:8080/"
        },
        "id": "zE5QkzQWyYj3",
        "outputId": "b46ea3d9-7815-42ac-aa66-3155cc55cc2e"
      },
      "execution_count": 64,
      "outputs": [
        {
          "output_type": "stream",
          "name": "stdout",
          "text": [
            "torch.Size([2, 2, 3])\n",
            "tensor([[[0.6128, 0.1519, 0.0453],\n",
            "         [0.5035, 0.9978, 0.3884]],\n",
            "\n",
            "        [[0.6929, 0.1703, 0.1384],\n",
            "         [0.4759, 0.7481, 0.0361]]])\n"
          ]
        }
      ]
    },
    {
      "cell_type": "code",
      "source": [
        "some_constants = torch.tensor([[3.1415926, 2.71828], [1.61803, 0.0072897]])\n",
        "print(some_constants)"
      ],
      "metadata": {
        "colab": {
          "base_uri": "https://localhost:8080/"
        },
        "id": "m2mlQKOMyYhg",
        "outputId": "70fffde4-e6af-44e9-e96c-421192ddcad9"
      },
      "execution_count": 65,
      "outputs": [
        {
          "output_type": "stream",
          "name": "stdout",
          "text": [
            "tensor([[3.1416, 2.7183],\n",
            "        [1.6180, 0.0073]])\n"
          ]
        }
      ]
    },
    {
      "cell_type": "code",
      "source": [
        "some_integers = torch.tensor((2, 3, 5, 7, 11, 13, 17, 19))\n",
        "print(some_integers)"
      ],
      "metadata": {
        "colab": {
          "base_uri": "https://localhost:8080/"
        },
        "id": "MS7PRXMfyqqb",
        "outputId": "632b560b-e9dd-4f19-d059-886e34f525cd"
      },
      "execution_count": 66,
      "outputs": [
        {
          "output_type": "stream",
          "name": "stdout",
          "text": [
            "tensor([ 2,  3,  5,  7, 11, 13, 17, 19])\n"
          ]
        }
      ]
    },
    {
      "cell_type": "code",
      "source": [
        "more_integers = torch.tensor(((2, 4, 6), [3, 6, 9]))\n",
        "print(more_integers)"
      ],
      "metadata": {
        "colab": {
          "base_uri": "https://localhost:8080/"
        },
        "id": "hpGzVo_oyqnE",
        "outputId": "72ac525c-fef4-49c4-e77a-bdbd1e9f53f1"
      },
      "execution_count": 67,
      "outputs": [
        {
          "output_type": "stream",
          "name": "stdout",
          "text": [
            "tensor([[2, 4, 6],\n",
            "        [3, 6, 9]])\n"
          ]
        }
      ]
    },
    {
      "cell_type": "code",
      "source": [
        "a = torch.ones((2, 3), dtype=torch.int16)\n",
        "print(a)"
      ],
      "metadata": {
        "colab": {
          "base_uri": "https://localhost:8080/"
        },
        "id": "DtiBef9AyqlJ",
        "outputId": "72720078-51fc-4836-aa12-37a003b83d57"
      },
      "execution_count": 68,
      "outputs": [
        {
          "output_type": "stream",
          "name": "stdout",
          "text": [
            "tensor([[1, 1, 1],\n",
            "        [1, 1, 1]], dtype=torch.int16)\n"
          ]
        }
      ]
    },
    {
      "cell_type": "code",
      "source": [
        "b = torch.rand((2, 3), dtype=torch.float64) * 20.\n",
        "print(b)"
      ],
      "metadata": {
        "colab": {
          "base_uri": "https://localhost:8080/"
        },
        "id": "Tb_FLnK0yqjC",
        "outputId": "77460371-fba2-496a-c8f2-07770eb27ff2"
      },
      "execution_count": 69,
      "outputs": [
        {
          "output_type": "stream",
          "name": "stdout",
          "text": [
            "tensor([[ 0.9956,  1.4148,  5.8364],\n",
            "        [11.2406, 11.2083, 11.6692]], dtype=torch.float64)\n"
          ]
        }
      ]
    },
    {
      "cell_type": "code",
      "source": [
        "c = b.to(torch.int32)\n",
        "print(c)"
      ],
      "metadata": {
        "colab": {
          "base_uri": "https://localhost:8080/"
        },
        "id": "ZxgB-pfFyqg3",
        "outputId": "be4cca1c-6e8d-4fa1-8321-a32dc14c05e4"
      },
      "execution_count": 70,
      "outputs": [
        {
          "output_type": "stream",
          "name": "stdout",
          "text": [
            "tensor([[ 0,  1,  5],\n",
            "        [11, 11, 11]], dtype=torch.int32)\n"
          ]
        }
      ]
    },
    {
      "cell_type": "code",
      "source": [
        "# Convert a integer list with length 5 to a tensor\n",
        "\n",
        "ints_to_tensor = torch.tensor([0, 1, 2, 3, 4])\n",
        "print(\"The dtype of tensor object after converting it to tensor: \", ints_to_tensor.dtype)\n",
        "print(\"The type of tensor object after converting it to tensor: \", ints_to_tensor.type())"
      ],
      "metadata": {
        "colab": {
          "base_uri": "https://localhost:8080/"
        },
        "id": "MC3MvuK1vhXq",
        "outputId": "17d1e8a6-c17c-4783-8339-e854650ba26a"
      },
      "execution_count": 71,
      "outputs": [
        {
          "output_type": "stream",
          "name": "stdout",
          "text": [
            "The dtype of tensor object after converting it to tensor:  torch.int64\n",
            "The type of tensor object after converting it to tensor:  torch.LongTensor\n"
          ]
        }
      ]
    },
    {
      "cell_type": "code",
      "source": [
        "# The Python type is still torch.Tensor:\n",
        "type(ints_to_tensor)"
      ],
      "metadata": {
        "colab": {
          "base_uri": "https://localhost:8080/"
        },
        "id": "cq5h3yYfvmDr",
        "outputId": "3c536d10-b2b8-4985-894b-89ad8aba4b8e"
      },
      "execution_count": 72,
      "outputs": [
        {
          "output_type": "execute_result",
          "data": {
            "text/plain": [
              "torch.Tensor"
            ]
          },
          "metadata": {},
          "execution_count": 72
        }
      ]
    },
    {
      "cell_type": "code",
      "source": [
        "# Convert a float list with length 5 to a tensor\n",
        "\n",
        "floats_to_tensor = torch.tensor([0.0, 1.0, 2.0, 3.0, 4.0])\n",
        "print(\"The dtype of tensor object after converting it to tensor: \", floats_to_tensor.dtype)\n",
        "print(\"The type of tensor object after converting it to tensor: \", floats_to_tensor.type())"
      ],
      "metadata": {
        "colab": {
          "base_uri": "https://localhost:8080/"
        },
        "id": "Xxj_hGe0vmAO",
        "outputId": "95ffa93e-949f-41d9-8455-398cc89f903b"
      },
      "execution_count": 73,
      "outputs": [
        {
          "output_type": "stream",
          "name": "stdout",
          "text": [
            "The dtype of tensor object after converting it to tensor:  torch.float32\n",
            "The type of tensor object after converting it to tensor:  torch.FloatTensor\n"
          ]
        }
      ]
    },
    {
      "cell_type": "code",
      "source": [
        "list_floats=[0.0, 1.0, 2.0, 3.0, 4.0]\n",
        "\n",
        "floats_int_tensor=torch.tensor(list_floats,dtype=torch.int64)\n",
        "print(\"The dtype of tensor object is: \", floats_int_tensor.dtype)\n",
        "print(\"The type of tensor object is: \", floats_int_tensor.type())"
      ],
      "metadata": {
        "colab": {
          "base_uri": "https://localhost:8080/"
        },
        "id": "ZNW45bafvl9y",
        "outputId": "6783d14e-0c52-41ac-e44d-afbc4e57873d"
      },
      "execution_count": 74,
      "outputs": [
        {
          "output_type": "stream",
          "name": "stdout",
          "text": [
            "The dtype of tensor object is:  torch.int64\n",
            "The type of tensor object is:  torch.LongTensor\n"
          ]
        }
      ]
    },
    {
      "cell_type": "code",
      "source": [
        "# Convert a integer list with length 5 to float tensor\n",
        "\n",
        "new_float_tensor = torch.FloatTensor([0, 1, 2, 3, 4])\n",
        "new_float_tensor.type()\n",
        "print(\"The type of the new_float_tensor:\", new_float_tensor.type())"
      ],
      "metadata": {
        "colab": {
          "base_uri": "https://localhost:8080/"
        },
        "id": "GoGZuozPvl7P",
        "outputId": "2416292c-cfe1-4233-cadf-77ec92440521"
      },
      "execution_count": 75,
      "outputs": [
        {
          "output_type": "stream",
          "name": "stdout",
          "text": [
            "The type of the new_float_tensor: torch.FloatTensor\n"
          ]
        }
      ]
    },
    {
      "cell_type": "code",
      "source": [
        "new_float_tensor = torch.FloatTensor([0, 1, 2, 3, 4])"
      ],
      "metadata": {
        "id": "mOA__rDDvl4B"
      },
      "execution_count": 76,
      "outputs": []
    },
    {
      "cell_type": "code",
      "source": [
        "# Another method to convert the integer list to float tensor\n",
        "\n",
        "old_int_tensor = torch.tensor([0, 1, 2, 3, 4])\n",
        "new_float_tensor = old_int_tensor.type(torch.FloatTensor)\n",
        "print(\"The type of the new_float_tensor:\", new_float_tensor.type())"
      ],
      "metadata": {
        "colab": {
          "base_uri": "https://localhost:8080/"
        },
        "id": "LZPFw9LOvl1o",
        "outputId": "694c1216-6e65-44a8-8716-41b567f4662d"
      },
      "execution_count": 77,
      "outputs": [
        {
          "output_type": "stream",
          "name": "stdout",
          "text": [
            "The type of the new_float_tensor: torch.FloatTensor\n"
          ]
        }
      ]
    },
    {
      "cell_type": "code",
      "source": [
        "# Introduce the tensor_obj.size() & tensor_ndimension.size() methods\n",
        "\n",
        "print(\"The size of the new_float_tensor: \", new_float_tensor.size())\n",
        "print(\"The dimension of the new_float_tensor: \",new_float_tensor.ndimension())"
      ],
      "metadata": {
        "colab": {
          "base_uri": "https://localhost:8080/"
        },
        "id": "M9AEZnfhvlzC",
        "outputId": "fd17f1d9-0f36-43d4-e8f6-475f1c55766c"
      },
      "execution_count": 78,
      "outputs": [
        {
          "output_type": "stream",
          "name": "stdout",
          "text": [
            "The size of the new_float_tensor:  torch.Size([5])\n",
            "The dimension of the new_float_tensor:  1\n"
          ]
        }
      ]
    },
    {
      "cell_type": "code",
      "source": [
        "# Introduce the tensor_obj.view(row, column) method\n",
        "\n",
        "twoD_float_tensor = new_float_tensor.view(5, 1)\n",
        "print(\"Original Size: \", new_float_tensor)\n",
        "print(\"Size after view method\", twoD_float_tensor)"
      ],
      "metadata": {
        "colab": {
          "base_uri": "https://localhost:8080/"
        },
        "id": "Q6WZdQApvlwl",
        "outputId": "33b9efa1-f74a-4818-a13b-8a706787c156"
      },
      "execution_count": 79,
      "outputs": [
        {
          "output_type": "stream",
          "name": "stdout",
          "text": [
            "Original Size:  tensor([0., 1., 2., 3., 4.])\n",
            "Size after view method tensor([[0.],\n",
            "        [1.],\n",
            "        [2.],\n",
            "        [3.],\n",
            "        [4.]])\n"
          ]
        }
      ]
    },
    {
      "cell_type": "code",
      "source": [
        "# Introduce the use of -1 in tensor_obj.view(row, column) method\n",
        "\n",
        "twoD_float_tensor = new_float_tensor.view(-1, 1)\n",
        "print(\"Original Size: \", new_float_tensor)\n",
        "print(\"Size after view method\", twoD_float_tensor)"
      ],
      "metadata": {
        "colab": {
          "base_uri": "https://localhost:8080/"
        },
        "id": "okQBxmuQvluG",
        "outputId": "c12e974a-a8e5-4b27-d4dd-04488bec6112"
      },
      "execution_count": 80,
      "outputs": [
        {
          "output_type": "stream",
          "name": "stdout",
          "text": [
            "Original Size:  tensor([0., 1., 2., 3., 4.])\n",
            "Size after view method tensor([[0.],\n",
            "        [1.],\n",
            "        [2.],\n",
            "        [3.],\n",
            "        [4.]])\n"
          ]
        }
      ]
    },
    {
      "cell_type": "code",
      "source": [
        "# Convert a numpy array to a tensor\n",
        "\n",
        "numpy_array = np.array([0.0, 1.0, 2.0, 3.0, 4.0])\n",
        "new_tensor = torch.from_numpy(numpy_array)\n",
        "\n",
        "print(\"The dtype of new tensor: \", new_tensor.dtype)\n",
        "print(\"The type of new tensor: \", new_tensor.type())"
      ],
      "metadata": {
        "colab": {
          "base_uri": "https://localhost:8080/"
        },
        "id": "QhEF1iJvvlrp",
        "outputId": "ffc2d564-cbf4-4f9f-c45c-a1195b56d6f3"
      },
      "execution_count": 81,
      "outputs": [
        {
          "output_type": "stream",
          "name": "stdout",
          "text": [
            "The dtype of new tensor:  torch.float64\n",
            "The type of new tensor:  torch.DoubleTensor\n"
          ]
        }
      ]
    },
    {
      "cell_type": "code",
      "source": [
        "# Convert a tensor to a numpy array\n",
        "\n",
        "back_to_numpy = new_tensor.numpy()\n",
        "print(\"The numpy array from tensor: \", back_to_numpy)\n",
        "print(\"The dtype of numpy array: \", back_to_numpy.dtype)"
      ],
      "metadata": {
        "colab": {
          "base_uri": "https://localhost:8080/"
        },
        "id": "gO8YQWedvlo9",
        "outputId": "c63011fd-a48c-418f-b4e2-853e410390b9"
      },
      "execution_count": 82,
      "outputs": [
        {
          "output_type": "stream",
          "name": "stdout",
          "text": [
            "The numpy array from tensor:  [0. 1. 2. 3. 4.]\n",
            "The dtype of numpy array:  float64\n"
          ]
        }
      ]
    },
    {
      "cell_type": "code",
      "source": [
        "# Set all elements in numpy array to zero \n",
        "numpy_array[:] = 0\n",
        "print(\"The new tensor points to numpy_array : \", new_tensor)\n",
        "print(\"and back to numpy array points to the tensor: \", back_to_numpy)"
      ],
      "metadata": {
        "colab": {
          "base_uri": "https://localhost:8080/"
        },
        "id": "HxVp2pqQvlmt",
        "outputId": "5e6cd7e8-6d5c-4b7e-cb33-5e7a8a0c4653"
      },
      "execution_count": 83,
      "outputs": [
        {
          "output_type": "stream",
          "name": "stdout",
          "text": [
            "The new tensor points to numpy_array :  tensor([0., 0., 0., 0., 0.], dtype=torch.float64)\n",
            "and back to numpy array points to the tensor:  [0. 0. 0. 0. 0.]\n"
          ]
        }
      ]
    },
    {
      "cell_type": "code",
      "source": [
        "# Convert a panda series to a tensor\n",
        "\n",
        "pandas_series=pd.Series([0.1, 2, 0.3, 10.1])\n",
        "new_tensor=torch.from_numpy(pandas_series.values)\n",
        "print(\"The new tensor from numpy array: \", new_tensor)\n",
        "print(\"The dtype of new tensor: \", new_tensor.dtype)\n",
        "print(\"The type of new tensor: \", new_tensor.type())"
      ],
      "metadata": {
        "colab": {
          "base_uri": "https://localhost:8080/"
        },
        "id": "0Q6Pfz_hwWy_",
        "outputId": "16cca2b6-1c0b-4cbd-bb4c-1fe18288cd29"
      },
      "execution_count": 84,
      "outputs": [
        {
          "output_type": "stream",
          "name": "stdout",
          "text": [
            "The new tensor from numpy array:  tensor([ 0.1000,  2.0000,  0.3000, 10.1000], dtype=torch.float64)\n",
            "The dtype of new tensor:  torch.float64\n",
            "The type of new tensor:  torch.DoubleTensor\n"
          ]
        }
      ]
    },
    {
      "cell_type": "code",
      "source": [
        "this_tensor=torch.tensor([0,1, 2,3]) "
      ],
      "metadata": {
        "id": "_lAzpzFHwWvp"
      },
      "execution_count": 85,
      "outputs": []
    },
    {
      "cell_type": "code",
      "source": [
        "this_tensor=torch.tensor([0,1, 2,3]) \n",
        "\n",
        "print(\"the first item is given by\",this_tensor[0].item(),\"the first tensor value is given by \",this_tensor[0])\n",
        "print(\"the second item is given by\",this_tensor[1].item(),\"the second tensor value is given by \",this_tensor[1])\n",
        "print(\"the third  item is given by\",this_tensor[2].item(),\"the third tensor value is given by \",this_tensor[2])"
      ],
      "metadata": {
        "colab": {
          "base_uri": "https://localhost:8080/"
        },
        "id": "Q80fSo0qwgHI",
        "outputId": "7d0d8bd4-5498-43e5-b075-0d11630c2d11"
      },
      "execution_count": 86,
      "outputs": [
        {
          "output_type": "stream",
          "name": "stdout",
          "text": [
            "the first item is given by 0 the first tensor value is given by  tensor(0)\n",
            "the second item is given by 1 the second tensor value is given by  tensor(1)\n",
            "the third  item is given by 2 the third tensor value is given by  tensor(2)\n"
          ]
        }
      ]
    },
    {
      "cell_type": "code",
      "source": [
        "# we can use the method  tolist() to return a list\n",
        "torch_to_list=this_tensor.tolist()\n",
        "\n",
        "print('tensor:', this_tensor,\"\\nlist:\",torch_to_list)"
      ],
      "metadata": {
        "colab": {
          "base_uri": "https://localhost:8080/"
        },
        "id": "Xj0fwbU3wgDo",
        "outputId": "c0855e3a-d144-4737-a719-f39e93d79bcc"
      },
      "execution_count": 87,
      "outputs": [
        {
          "output_type": "stream",
          "name": "stdout",
          "text": [
            "tensor: tensor([0, 1, 2, 3]) \n",
            "list: [0, 1, 2, 3]\n"
          ]
        }
      ]
    },
    {
      "cell_type": "code",
      "source": [
        "# Practice: convert the following tensor to a tensor object with 1 row and 5 columns\n",
        "\n",
        "your_tensor = torch.tensor([1, 2, 3, 4, 5])\n",
        "your_new_tensor = your_tensor.view(1, 5)\n",
        "print(\"Original Size: \", your_tensor)\n",
        "print(\"Size after view method\", your_new_tensor)"
      ],
      "metadata": {
        "colab": {
          "base_uri": "https://localhost:8080/"
        },
        "id": "NRXlp1rPwgCB",
        "outputId": "b6d0dea9-07de-455a-91e4-9295bc74f409"
      },
      "execution_count": 88,
      "outputs": [
        {
          "output_type": "stream",
          "name": "stdout",
          "text": [
            "Original Size:  tensor([1, 2, 3, 4, 5])\n",
            "Size after view method tensor([[1, 2, 3, 4, 5]])\n"
          ]
        }
      ]
    },
    {
      "cell_type": "markdown",
      "source": [
        "## The Function for Plotting Diagram"
      ],
      "metadata": {
        "id": "RoBXb5zD2TCN"
      }
    },
    {
      "cell_type": "markdown",
      "source": [
        "### General"
      ],
      "metadata": {
        "id": "yVSe4ouFExrS"
      }
    },
    {
      "cell_type": "markdown",
      "source": [
        "This is the function for plotting diagrams. You will use this function to plot the vectors in Coordinate system."
      ],
      "metadata": {
        "id": "bW5bdAqd2mSw"
      }
    },
    {
      "cell_type": "code",
      "source": [
        "# Plot vecotrs, please keep the parameters in the same length\n",
        "# @param: Vectors = [{\"vector\": vector variable, \"name\": name of vector, \"color\": color of the vector on diagram}]\n",
        "    \n",
        "def plotVec(vectors):\n",
        "    ax = plt.axes()\n",
        "    \n",
        "    # For loop to draw the vectors\n",
        "    for vec in vectors:\n",
        "        ax.arrow(0, 0, *vec[\"vector\"], head_width = 0.05,color = vec[\"color\"], head_length = 0.1)\n",
        "        plt.text(*(vec[\"vector\"] + 0.1), vec[\"name\"])\n",
        "    \n",
        "    plt.ylim(-2,2)\n",
        "    plt.xlim(-2,2)\n",
        "\n"
      ],
      "metadata": {
        "id": "oIDcccXv1_1m"
      },
      "execution_count": 89,
      "outputs": []
    },
    {
      "cell_type": "code",
      "source": [
        "x = torch.linspace(-10, 10, 10, requires_grad=True)\n",
        "\n",
        "y = x**2      # removed the sum to stay with the same dimensions\n",
        "y.backward(x) # handing over the parameter x, as y isn't a scalar anymore\n",
        "# your function\n",
        "plt.plot(x.detach().numpy(), y.detach().numpy(), label='x**2')\n",
        "# gradients\n",
        "plt.plot(x.detach().numpy(), x.grad.detach().numpy(), label='grad')\n",
        "plt.legend()"
      ],
      "metadata": {
        "colab": {
          "base_uri": "https://localhost:8080/",
          "height": 0
        },
        "id": "1LQ38Oet4nvB",
        "outputId": "796db4ed-bc19-409a-b99b-8a9fc04bf147"
      },
      "execution_count": 90,
      "outputs": [
        {
          "output_type": "execute_result",
          "data": {
            "text/plain": [
              "<matplotlib.legend.Legend at 0x7f12d2d01910>"
            ]
          },
          "metadata": {},
          "execution_count": 90
        },
        {
          "output_type": "display_data",
          "data": {
            "text/plain": [
              "<Figure size 432x288 with 1 Axes>"
            ],
            "image/png": "[encoded data removed]"
          },
          "metadata": {
            "needs_background": "light"
          }
        }
      ]
    },
    {
      "cell_type": "code",
      "source": [
        "x = torch.linspace(-10, 10, 10, requires_grad=True)\n",
        "\n",
        "y = torch.sum(x**2) \n",
        "y.backward() \n",
        "print(x.grad)\n",
        "plt.plot(x.detach().numpy(), x.grad.detach().numpy(), label='grad')\n",
        "plt.legend()"
      ],
      "metadata": {
        "colab": {
          "base_uri": "https://localhost:8080/",
          "height": 0
        },
        "id": "akbSYgp55C9J",
        "outputId": "ee93ac8b-56af-4200-c3dc-67de38eafaa1"
      },
      "execution_count": 91,
      "outputs": [
        {
          "output_type": "stream",
          "name": "stdout",
          "text": [
            "tensor([-20.0000, -15.5556, -11.1111,  -6.6667,  -2.2222,   2.2222,   6.6667,\n",
            "         11.1111,  15.5556,  20.0000])\n"
          ]
        },
        {
          "output_type": "execute_result",
          "data": {
            "text/plain": [
              "<matplotlib.legend.Legend at 0x7f12d2c10bb0>"
            ]
          },
          "metadata": {},
          "execution_count": 91
        },
        {
          "output_type": "display_data",
          "data": {
            "text/plain": [
              "<Figure size 432x288 with 1 Axes>"
            ],
            "image/png": "[encoded data removed]"
          },
          "metadata": {
            "needs_background": "light"
          }
        }
      ]
    },
    {
      "cell_type": "code",
      "source": [
        "# Applying the linspace function to get a tensor of size 15 with values from -5 to 5\n",
        "a = torch.linspace(-7, 7, 20)\n",
        "print(a)"
      ],
      "metadata": {
        "colab": {
          "base_uri": "https://localhost:8080/"
        },
        "id": "ioubhbqdNpvo",
        "outputId": "7ebd17d1-44ed-443a-ab45-ddd25b49169f"
      },
      "execution_count": 92,
      "outputs": [
        {
          "output_type": "stream",
          "name": "stdout",
          "text": [
            "tensor([-7.0000, -6.2632, -5.5263, -4.7895, -4.0526, -3.3158, -2.5789, -1.8421,\n",
            "        -1.1053, -0.3684,  0.3684,  1.1053,  1.8421,  2.5789,  3.3158,  4.0526,\n",
            "         4.7895,  5.5263,  6.2632,  7.0000])\n"
          ]
        }
      ]
    },
    {
      "cell_type": "code",
      "source": [
        "# Plotting\n",
        "plt.plot(a.numpy(), np.zeros(a.numpy().shape), color = 'indigo', marker = \"o\") \n",
        "plt.title(\"torch.linspace\") \n",
        "plt.xlabel(\"X\") \n",
        "plt.ylabel(\"Y\") \n",
        "  \n",
        "plt.show()"
      ],
      "metadata": {
        "colab": {
          "base_uri": "https://localhost:8080/",
          "height": 0
        },
        "id": "ArGD6PApN0q0",
        "outputId": "17e2dc33-373a-4ede-822a-4e13ca1e4ce4"
      },
      "execution_count": 93,
      "outputs": [
        {
          "output_type": "display_data",
          "data": {
            "text/plain": [
              "<Figure size 432x288 with 1 Axes>"
            ],
            "image/png": "[encoded data removed]"
          },
          "metadata": {
            "needs_background": "light"
          }
        }
      ]
    },
    {
      "cell_type": "markdown",
      "source": [
        "### Plotting a function on the two-dimensional coordinate system"
      ],
      "metadata": {
        "id": "GlJ09AuJEuyv"
      }
    },
    {
      "cell_type": "markdown",
      "source": [
        "####  Sin Function"
      ],
      "metadata": {
        "id": "fyuR9TfJE5fY"
      }
    },
    {
      "cell_type": "code",
      "source": [
        "# create lin space from 1 to 30\n",
        "x = torch.linspace(1, 30, 50)\n",
        "x"
      ],
      "metadata": {
        "colab": {
          "base_uri": "https://localhost:8080/"
        },
        "id": "GE7-0yNJ6sa6",
        "outputId": "5b59c917-48f0-4d84-be61-d68698aba6c5"
      },
      "execution_count": 94,
      "outputs": [
        {
          "output_type": "execute_result",
          "data": {
            "text/plain": [
              "tensor([ 1.0000,  1.5918,  2.1837,  2.7755,  3.3673,  3.9592,  4.5510,  5.1429,\n",
              "         5.7347,  6.3265,  6.9184,  7.5102,  8.1020,  8.6939,  9.2857,  9.8776,\n",
              "        10.4694, 11.0612, 11.6531, 12.2449, 12.8367, 13.4286, 14.0204, 14.6122,\n",
              "        15.2041, 15.7959, 16.3878, 16.9796, 17.5714, 18.1633, 18.7551, 19.3469,\n",
              "        19.9388, 20.5306, 21.1224, 21.7143, 22.3061, 22.8980, 23.4898, 24.0816,\n",
              "        24.6735, 25.2653, 25.8571, 26.4490, 27.0408, 27.6327, 28.2245, 28.8163,\n",
              "        29.4082, 30.0000])"
            ]
          },
          "metadata": {},
          "execution_count": 94
        }
      ]
    },
    {
      "cell_type": "code",
      "source": [
        "# sin function\n",
        "y = torch.sin(x)\n",
        "y"
      ],
      "metadata": {
        "colab": {
          "base_uri": "https://localhost:8080/"
        },
        "id": "Z_JY-LKAFDWL",
        "outputId": "fd8921a2-192d-40e9-8ded-cf57cec879c9"
      },
      "execution_count": 95,
      "outputs": [
        {
          "output_type": "execute_result",
          "data": {
            "text/plain": [
              "tensor([ 0.8415,  0.9998,  0.8180,  0.3580, -0.2238, -0.7295, -0.9870, -0.9088,\n",
              "        -0.5214,  0.0433,  0.5933,  0.9415,  0.9694,  0.6675,  0.1386, -0.4375,\n",
              "        -0.8647, -0.9978, -0.7915, -0.3160,  0.2671,  0.7593,  0.9932,  0.8893,\n",
              "         0.4828, -0.0878, -0.6286, -0.9556, -0.9575, -0.6337, -0.0943,  0.4771,\n",
              "         0.8863,  0.9939,  0.7635,  0.2733, -0.3098, -0.7875, -0.9974, -0.8680,\n",
              "        -0.4433,  0.1322,  0.6627,  0.9678,  0.9437,  0.5985,  0.0498, -0.5158,\n",
              "        -0.9060, -0.9880])"
            ]
          },
          "metadata": {},
          "execution_count": 95
        }
      ]
    },
    {
      "cell_type": "code",
      "source": [
        "# plot\n",
        "plt.plot(x.numpy(), y.numpy())\n",
        " \n",
        "# display\n",
        "plt.show()"
      ],
      "metadata": {
        "colab": {
          "base_uri": "https://localhost:8080/",
          "height": 0
        },
        "id": "4k7EBQ5GFMVQ",
        "outputId": "9a370e82-ea25-4380-a738-cef2cefb5d39"
      },
      "execution_count": 96,
      "outputs": [
        {
          "output_type": "display_data",
          "data": {
            "text/plain": [
              "<Figure size 432x288 with 1 Axes>"
            ],
            "image/png": "[encoded data removed]"
          },
          "metadata": {
            "needs_background": "light"
          }
        }
      ]
    },
    {
      "cell_type": "code",
      "source": [
        "# Method for calculating the sin result of each element in the tensor\n",
        "\n",
        "pi_tensor = torch.tensor([0, np.pi/2, np.pi])\n",
        "sin = torch.sin(pi_tensor)\n",
        "print(\"The sin result of pi_tensor: \", sin)"
      ],
      "metadata": {
        "colab": {
          "base_uri": "https://localhost:8080/"
        },
        "id": "fArFmupGtFOf",
        "outputId": "d9934c62-1889-4be5-86ae-34b619bdf68a"
      },
      "execution_count": 97,
      "outputs": [
        {
          "output_type": "stream",
          "name": "stdout",
          "text": [
            "The sin result of pi_tensor:  tensor([ 0.0000e+00,  1.0000e+00, -8.7423e-08])\n"
          ]
        }
      ]
    },
    {
      "cell_type": "markdown",
      "source": [
        "#### Cos Function"
      ],
      "metadata": {
        "id": "5sZaoHsBFVaX"
      }
    },
    {
      "cell_type": "code",
      "source": [
        "# create lin space from 1 to 40\n",
        "x = torch.linspace(1, 40, 60)\n",
        "x"
      ],
      "metadata": {
        "colab": {
          "base_uri": "https://localhost:8080/"
        },
        "id": "tY2H2Rf-FQ__",
        "outputId": "ea71050d-ecff-43e5-fec5-3e2d15f1b1e0"
      },
      "execution_count": 98,
      "outputs": [
        {
          "output_type": "execute_result",
          "data": {
            "text/plain": [
              "tensor([ 1.0000,  1.6610,  2.3220,  2.9831,  3.6441,  4.3051,  4.9661,  5.6271,\n",
              "         6.2881,  6.9492,  7.6102,  8.2712,  8.9322,  9.5932, 10.2542, 10.9153,\n",
              "        11.5763, 12.2373, 12.8983, 13.5593, 14.2203, 14.8814, 15.5424, 16.2034,\n",
              "        16.8644, 17.5254, 18.1864, 18.8475, 19.5085, 20.1695, 20.8305, 21.4915,\n",
              "        22.1525, 22.8136, 23.4746, 24.1356, 24.7966, 25.4576, 26.1186, 26.7797,\n",
              "        27.4407, 28.1017, 28.7627, 29.4237, 30.0847, 30.7458, 31.4068, 32.0678,\n",
              "        32.7288, 33.3898, 34.0508, 34.7119, 35.3729, 36.0339, 36.6949, 37.3559,\n",
              "        38.0169, 38.6780, 39.3390, 40.0000])"
            ]
          },
          "metadata": {},
          "execution_count": 98
        }
      ]
    },
    {
      "cell_type": "code",
      "source": [
        "# cos function\n",
        "y = torch.cos(x)\n",
        "y"
      ],
      "metadata": {
        "colab": {
          "base_uri": "https://localhost:8080/"
        },
        "id": "N9gKc9F0FmT9",
        "outputId": "e344905b-65cb-4ed9-ec53-457f79ce68f3"
      },
      "execution_count": 99,
      "outputs": [
        {
          "output_type": "execute_result",
          "data": {
            "text/plain": [
              "tensor([ 0.5403, -0.0901, -0.6825, -0.9875, -0.8764, -0.3961,  0.2510,  0.7924,\n",
              "         1.0000,  0.7863,  0.2414, -0.4052, -0.8811, -0.9858, -0.6753, -0.0802,\n",
              "         0.5486,  0.9463,  0.9454,  0.5462, -0.0831, -0.6774, -0.9863, -0.8798,\n",
              "        -0.4026,  0.2442,  0.7881,  1.0000,  0.7907,  0.2482, -0.3988, -0.8778,\n",
              "        -0.9870, -0.6805, -0.0873,  0.5427,  0.9440,  0.9477,  0.5521, -0.0761,\n",
              "        -0.6722, -0.9851, -0.8831, -0.4090,  0.2373,  0.7837,  1.0000,  0.7950,\n",
              "         0.2551, -0.3923, -0.8744, -0.9881, -0.6856, -0.0943,  0.5368,  0.9417,\n",
              "         0.9499,  0.5580, -0.0690, -0.6669])"
            ]
          },
          "metadata": {},
          "execution_count": 99
        }
      ]
    },
    {
      "cell_type": "code",
      "source": [
        "# plot\n",
        "plt.plot(x.numpy(), y.numpy())\n",
        " \n",
        "# display\n",
        "plt.show()"
      ],
      "metadata": {
        "colab": {
          "base_uri": "https://localhost:8080/",
          "height": 0
        },
        "id": "Wg1m-c-XFrpa",
        "outputId": "20cfd44b-8dd6-4440-d3f4-2586ee5d2a78"
      },
      "execution_count": 100,
      "outputs": [
        {
          "output_type": "display_data",
          "data": {
            "text/plain": [
              "<Figure size 432x288 with 1 Axes>"
            ],
            "image/png": "[encoded data removed]"
          },
          "metadata": {
            "needs_background": "light"
          }
        }
      ]
    },
    {
      "cell_type": "markdown",
      "source": [
        "#### Tan Function"
      ],
      "metadata": {
        "id": "k9PSpUOpFy_X"
      }
    },
    {
      "cell_type": "code",
      "source": [
        "# create line space from 1 to 60\n",
        "x = torch.linspace(1, 60, 100)\n",
        "x"
      ],
      "metadata": {
        "colab": {
          "base_uri": "https://localhost:8080/"
        },
        "id": "Pbxm01U4FvOl",
        "outputId": "11f52883-b4f3-4e50-bfd3-9855c36898ea"
      },
      "execution_count": 101,
      "outputs": [
        {
          "output_type": "execute_result",
          "data": {
            "text/plain": [
              "tensor([ 1.0000,  1.5960,  2.1919,  2.7879,  3.3838,  3.9798,  4.5758,  5.1717,\n",
              "         5.7677,  6.3636,  6.9596,  7.5556,  8.1515,  8.7475,  9.3434,  9.9394,\n",
              "        10.5354, 11.1313, 11.7273, 12.3232, 12.9192, 13.5152, 14.1111, 14.7071,\n",
              "        15.3030, 15.8990, 16.4949, 17.0909, 17.6869, 18.2828, 18.8788, 19.4747,\n",
              "        20.0707, 20.6667, 21.2626, 21.8586, 22.4545, 23.0505, 23.6465, 24.2424,\n",
              "        24.8384, 25.4343, 26.0303, 26.6263, 27.2222, 27.8182, 28.4141, 29.0101,\n",
              "        29.6061, 30.2020, 30.7980, 31.3939, 31.9899, 32.5859, 33.1818, 33.7778,\n",
              "        34.3737, 34.9697, 35.5657, 36.1616, 36.7576, 37.3535, 37.9495, 38.5455,\n",
              "        39.1414, 39.7374, 40.3333, 40.9293, 41.5253, 42.1212, 42.7172, 43.3131,\n",
              "        43.9091, 44.5051, 45.1010, 45.6970, 46.2929, 46.8889, 47.4848, 48.0808,\n",
              "        48.6768, 49.2727, 49.8687, 50.4646, 51.0606, 51.6566, 52.2525, 52.8485,\n",
              "        53.4444, 54.0404, 54.6364, 55.2323, 55.8283, 56.4242, 57.0202, 57.6162,\n",
              "        58.2121, 58.8081, 59.4040, 60.0000])"
            ]
          },
          "metadata": {},
          "execution_count": 101
        }
      ]
    },
    {
      "cell_type": "code",
      "source": [
        "# tan function\n",
        "y = torch.tan(x)\n",
        "y"
      ],
      "metadata": {
        "colab": {
          "base_uri": "https://localhost:8080/"
        },
        "id": "WvlNODJ-F-6k",
        "outputId": "201589ef-c66a-464f-812c-47acd28f2d8b"
      },
      "execution_count": 102,
      "outputs": [
        {
          "output_type": "execute_result",
          "data": {
            "text/plain": [
              "tensor([ 1.5574e+00, -3.9732e+01, -1.3974e+00, -3.6924e-01,  2.4710e-01,\n",
              "         1.1116e+00,  7.2734e+00, -2.0218e+00, -5.6661e-01,  8.0625e-02,\n",
              "         8.0274e-01,  3.2508e+00, -3.2612e+00, -8.0421e-01, -8.1524e-02,\n",
              "         5.6543e-01,  2.0173e+00, -7.3218e+00, -1.1136e+00, -2.4805e-01,\n",
              "         3.6823e-01,  1.3948e+00,  3.8370e+01, -1.5605e+00, -4.2862e-01,\n",
              "         1.9338e-01,  1.0032e+00,  5.2606e+00, -2.3128e+00, -6.3636e-01,\n",
              "         2.9240e-02,  7.2177e-01,  2.7425e+00, -3.9774e+00, -8.9226e-01,\n",
              "        -1.3335e-01,  4.9969e-01,  1.7817e+00, -1.1803e+01, -1.2354e+00,\n",
              "        -3.0316e-01,  3.1109e-01,  1.2539e+00,  1.2915e+01, -1.7519e+00,\n",
              "        -4.9067e-01,  1.4073e-01,  9.0536e-01,  4.1029e+00, -2.6820e+00,\n",
              "        -7.1081e-01, -2.1992e-02,  6.4659e-01,  2.3595e+00, -5.0606e+00,\n",
              "        -9.8875e-01, -1.8588e-01,  4.3722e-01,  1.5856e+00, -3.0017e+01,\n",
              "        -1.3737e+00, -3.6002e-01,  2.5575e-01,  1.1300e+00,  7.7396e+00,\n",
              "        -1.9811e+00, -5.5591e-01,  8.8823e-02,  8.1621e-01,  3.3475e+00,\n",
              "        -3.1690e+00, -7.9089e-01, -7.3336e-02,  5.7622e-01,  2.0592e+00,\n",
              "        -6.9023e+00, -1.0955e+00, -2.3942e-01,  3.7750e-01,  1.4190e+00,\n",
              "         5.5807e+01, -1.5329e+00, -4.1902e-01,  2.0184e-01,  1.0196e+00,\n",
              "         5.5044e+00, -2.2620e+00, -6.2498e-01,  3.7385e-02,  7.3422e-01,\n",
              "         2.8134e+00, -3.8448e+00, -8.7775e-01, -1.2507e-01,  5.0989e-01,\n",
              "         1.8162e+00, -1.0762e+01, -1.2150e+00, -2.9430e-01,  3.2004e-01])"
            ]
          },
          "metadata": {},
          "execution_count": 102
        }
      ]
    },
    {
      "cell_type": "code",
      "source": [
        "# plot\n",
        "plt.plot(x.numpy(), y.numpy())\n",
        " \n",
        "# display\n",
        "plt.show()"
      ],
      "metadata": {
        "colab": {
          "base_uri": "https://localhost:8080/",
          "height": 0
        },
        "id": "ELVd4wmxGCxP",
        "outputId": "26b268db-cde3-4e87-93ed-2cec2ccac8a9"
      },
      "execution_count": 103,
      "outputs": [
        {
          "output_type": "display_data",
          "data": {
            "text/plain": [
              "<Figure size 432x288 with 1 Axes>"
            ],
            "image/png": "[encoded data removed]"
          },
          "metadata": {
            "needs_background": "light"
          }
        }
      ]
    },
    {
      "cell_type": "markdown",
      "source": [
        "#### Sinh Function"
      ],
      "metadata": {
        "id": "soQfjJRBGXKD"
      }
    },
    {
      "cell_type": "code",
      "source": [
        "# create line space from 1 to 100\n",
        "x = torch.linspace(1, 100, 150)\n",
        "x"
      ],
      "metadata": {
        "colab": {
          "base_uri": "https://localhost:8080/"
        },
        "id": "uZ4hCd2UGF7q",
        "outputId": "d497f4e1-339d-4418-8a4c-6915fac8c028"
      },
      "execution_count": 104,
      "outputs": [
        {
          "output_type": "execute_result",
          "data": {
            "text/plain": [
              "tensor([  1.0000,   1.6644,   2.3289,   2.9933,   3.6577,   4.3221,   4.9866,\n",
              "          5.6510,   6.3154,   6.9799,   7.6443,   8.3087,   8.9732,   9.6376,\n",
              "         10.3020,  10.9664,  11.6309,  12.2953,  12.9597,  13.6242,  14.2886,\n",
              "         14.9530,  15.6174,  16.2819,  16.9463,  17.6107,  18.2752,  18.9396,\n",
              "         19.6040,  20.2685,  20.9329,  21.5973,  22.2617,  22.9262,  23.5906,\n",
              "         24.2550,  24.9195,  25.5839,  26.2483,  26.9128,  27.5772,  28.2416,\n",
              "         28.9060,  29.5705,  30.2349,  30.8993,  31.5638,  32.2282,  32.8926,\n",
              "         33.5570,  34.2215,  34.8859,  35.5503,  36.2148,  36.8792,  37.5436,\n",
              "         38.2081,  38.8725,  39.5369,  40.2013,  40.8658,  41.5302,  42.1946,\n",
              "         42.8591,  43.5235,  44.1879,  44.8523,  45.5168,  46.1812,  46.8456,\n",
              "         47.5101,  48.1745,  48.8389,  49.5034,  50.1678,  50.8322,  51.4966,\n",
              "         52.1611,  52.8255,  53.4899,  54.1544,  54.8188,  55.4832,  56.1477,\n",
              "         56.8121,  57.4765,  58.1409,  58.8054,  59.4698,  60.1342,  60.7987,\n",
              "         61.4631,  62.1275,  62.7919,  63.4564,  64.1208,  64.7852,  65.4497,\n",
              "         66.1141,  66.7785,  67.4429,  68.1074,  68.7718,  69.4362,  70.1007,\n",
              "         70.7651,  71.4295,  72.0940,  72.7584,  73.4228,  74.0872,  74.7517,\n",
              "         75.4161,  76.0805,  76.7450,  77.4094,  78.0738,  78.7383,  79.4027,\n",
              "         80.0671,  80.7315,  81.3960,  82.0604,  82.7248,  83.3893,  84.0537,\n",
              "         84.7181,  85.3826,  86.0470,  86.7114,  87.3758,  88.0403,  88.7047,\n",
              "         89.3691,  90.0336,  90.6980,  91.3624,  92.0268,  92.6913,  93.3557,\n",
              "         94.0201,  94.6846,  95.3490,  96.0134,  96.6778,  97.3423,  98.0067,\n",
              "         98.6711,  99.3356, 100.0000])"
            ]
          },
          "metadata": {},
          "execution_count": 104
        }
      ]
    },
    {
      "cell_type": "code",
      "source": [
        "# sinh function\n",
        "y = torch.sinh(x)\n",
        "y"
      ],
      "metadata": {
        "colab": {
          "base_uri": "https://localhost:8080/"
        },
        "id": "KROW4ddqGpXm",
        "outputId": "a3226397-f9a0-4f0f-e61a-87cfbc1c822c"
      },
      "execution_count": 105,
      "outputs": [
        {
          "output_type": "execute_result",
          "data": {
            "text/plain": [
              "tensor([1.1752e+00, 2.5467e+00, 5.0844e+00, 9.9505e+00, 1.9373e+01, 3.7669e+01,\n",
              "        7.3214e+01, 1.4229e+02, 2.7652e+02, 5.3739e+02, 1.0443e+03, 2.0296e+03,\n",
              "        3.9442e+03, 7.6651e+03, 1.4896e+04, 2.8949e+04, 5.6259e+04, 1.0933e+05,\n",
              "        2.1248e+05, 4.1292e+05, 8.0247e+05, 1.5595e+06, 3.0307e+06, 5.8898e+06,\n",
              "        1.1446e+07, 2.2244e+07, 4.3229e+07, 8.4010e+07, 1.6326e+08, 3.1728e+08,\n",
              "        6.1660e+08, 1.1983e+09, 2.3288e+09, 4.5256e+09, 8.7951e+09, 1.7092e+10,\n",
              "        3.3217e+10, 6.4553e+10, 1.2545e+11, 2.4380e+11, 4.7379e+11, 9.2076e+11,\n",
              "        1.7894e+12, 3.4775e+12, 6.7580e+12, 1.3133e+13, 2.5523e+13, 4.9601e+13,\n",
              "        9.6394e+13, 1.8733e+14, 3.6406e+14, 7.0750e+14, 1.3749e+15, 2.6720e+15,\n",
              "        5.1928e+15, 1.0092e+16, 1.9612e+16, 3.8113e+16, 7.4068e+16, 1.4394e+17,\n",
              "        2.7974e+17, 5.4363e+17, 1.0565e+18, 2.0532e+18, 3.9901e+18, 7.7542e+18,\n",
              "        1.5069e+19, 2.9286e+19, 5.6913e+19, 1.1060e+20, 2.1495e+20, 4.1772e+20,\n",
              "        8.1180e+20, 1.5776e+21, 3.0659e+21, 5.9583e+21, 1.1579e+22, 2.2503e+22,\n",
              "        4.3732e+22, 8.4987e+22, 1.6516e+23, 3.2097e+23, 6.2377e+23, 1.2122e+24,\n",
              "        2.3558e+24, 4.5783e+24, 8.8973e+24, 1.7291e+25, 3.3603e+25, 6.5303e+25,\n",
              "        1.2691e+26, 2.4663e+26, 4.7930e+26, 9.3146e+26, 1.8102e+27, 3.5179e+27,\n",
              "        6.8366e+27, 1.3286e+28, 2.5820e+28, 5.0178e+28, 9.7515e+28, 1.8951e+29,\n",
              "        3.6829e+29, 7.1573e+29, 1.3909e+30, 2.7031e+30, 5.2531e+30, 1.0209e+31,\n",
              "        1.9840e+31, 3.8556e+31, 7.4930e+31, 1.4562e+32, 2.8299e+32, 5.4995e+32,\n",
              "        1.0688e+33, 2.0770e+33, 4.0365e+33, 7.8444e+33, 1.5245e+34, 2.9626e+34,\n",
              "        5.7575e+34, 1.1189e+35, 2.1745e+35, 4.2258e+35, 8.2123e+35, 1.5960e+36,\n",
              "        3.1016e+36, 6.0276e+36, 1.1714e+37, 2.2764e+37, 4.4240e+37, 8.5975e+37,\n",
              "        1.6708e+38,        inf,        inf,        inf,        inf,        inf,\n",
              "               inf,        inf,        inf,        inf,        inf,        inf,\n",
              "               inf,        inf,        inf,        inf,        inf,        inf])"
            ]
          },
          "metadata": {},
          "execution_count": 105
        }
      ]
    },
    {
      "cell_type": "code",
      "source": [
        "# plot\n",
        "plt.plot(x.numpy(), y.numpy())\n",
        " \n",
        "# display\n",
        "plt.show()"
      ],
      "metadata": {
        "colab": {
          "base_uri": "https://localhost:8080/",
          "height": 0
        },
        "id": "h24WERvYGxU6",
        "outputId": "16fece52-55e4-41cb-b7e8-de3b0e9d4bd7"
      },
      "execution_count": 106,
      "outputs": [
        {
          "output_type": "display_data",
          "data": {
            "text/plain": [
              "<Figure size 432x288 with 1 Axes>"
            ],
            "image/png": "[encoded data removed]"
          },
          "metadata": {
            "needs_background": "light"
          }
        }
      ]
    },
    {
      "cell_type": "code",
      "source": [
        "# A vector of size 15 with values from -5 to 5\n",
        "a = np.linspace(-5, 5, 15)\n",
        "a"
      ],
      "metadata": {
        "colab": {
          "base_uri": "https://localhost:8080/"
        },
        "id": "5GxjFbtILih4",
        "outputId": "cf1b2a07-3852-4185-c9bd-56da3525fd5d"
      },
      "execution_count": 107,
      "outputs": [
        {
          "output_type": "execute_result",
          "data": {
            "text/plain": [
              "array([-5.        , -4.28571429, -3.57142857, -2.85714286, -2.14285714,\n",
              "       -1.42857143, -0.71428571,  0.        ,  0.71428571,  1.42857143,\n",
              "        2.14285714,  2.85714286,  3.57142857,  4.28571429,  5.        ])"
            ]
          },
          "metadata": {},
          "execution_count": 107
        }
      ]
    },
    {
      "cell_type": "code",
      "source": [
        "# Applying the hyperbolic sine function and\n",
        "# storing the result in 'b'\n",
        "b = torch.sinh(torch.FloatTensor(a))\n",
        "  \n",
        "print(b)"
      ],
      "metadata": {
        "colab": {
          "base_uri": "https://localhost:8080/"
        },
        "id": "uaMszxgdLh8w",
        "outputId": "3cfe0d89-42fc-46ae-ac5d-f27348600a4a"
      },
      "execution_count": 108,
      "outputs": [
        {
          "output_type": "stream",
          "name": "stdout",
          "text": [
            "tensor([-74.2032, -36.3203, -17.7696,  -8.6771,  -4.2032,  -1.9665,  -0.7766,\n",
            "          0.0000,   0.7766,   1.9665,   4.2032,   8.6771,  17.7696,  36.3203,\n",
            "         74.2032])\n"
          ]
        }
      ]
    },
    {
      "cell_type": "code",
      "source": [
        "# Plotting\n",
        "plt.plot(a, b.numpy(), color = 'red', marker = \"o\") \n",
        "plt.title(\"torch.sinh\") \n",
        "plt.xlabel(\"X\") \n",
        "plt.ylabel(\"Y\") \n",
        "  \n",
        "plt.show()"
      ],
      "metadata": {
        "colab": {
          "base_uri": "https://localhost:8080/",
          "height": 0
        },
        "id": "5XFPOKKsG1Zf",
        "outputId": "ad73aea7-7a48-43c3-8294-e3b369e44450"
      },
      "execution_count": 109,
      "outputs": [
        {
          "output_type": "display_data",
          "data": {
            "text/plain": [
              "<Figure size 432x288 with 1 Axes>"
            ],
            "image/png": "[encoded data removed]"
          },
          "metadata": {
            "needs_background": "light"
          }
        }
      ]
    },
    {
      "cell_type": "markdown",
      "source": [
        "#### Cosh Function"
      ],
      "metadata": {
        "id": "UgbA1i6aLvlE"
      }
    },
    {
      "cell_type": "code",
      "source": [
        "# A constant tensor of size 6\n",
        "a = torch.FloatTensor([1.0, -0.5, 3.4, -2.1, 0.0, -6.5])\n",
        "print(a)"
      ],
      "metadata": {
        "colab": {
          "base_uri": "https://localhost:8080/"
        },
        "id": "y_l4DRKzLpqY",
        "outputId": "1c0654d7-fa42-4ea2-b256-aab4af6153be"
      },
      "execution_count": 110,
      "outputs": [
        {
          "output_type": "stream",
          "name": "stdout",
          "text": [
            "tensor([ 1.0000, -0.5000,  3.4000, -2.1000,  0.0000, -6.5000])\n"
          ]
        }
      ]
    },
    {
      "cell_type": "code",
      "source": [
        "# Applying the cosh function and storing the result in 'b'\n",
        "b = torch.cosh(a)\n",
        "print(b)"
      ],
      "metadata": {
        "colab": {
          "base_uri": "https://localhost:8080/"
        },
        "id": "qP0521TCL4wW",
        "outputId": "3bc631b4-052d-4f52-c851-b64ac3f000d6"
      },
      "execution_count": 111,
      "outputs": [
        {
          "output_type": "stream",
          "name": "stdout",
          "text": [
            "tensor([  1.5431,   1.1276,  14.9987,   4.1443,   1.0000, 332.5716])\n"
          ]
        }
      ]
    },
    {
      "cell_type": "code",
      "source": [
        "# plot\n",
        "plt.plot(a.numpy(), b.numpy())\n",
        " \n",
        "# display\n",
        "plt.show()"
      ],
      "metadata": {
        "colab": {
          "base_uri": "https://localhost:8080/",
          "height": 0
        },
        "id": "argHrfAoL839",
        "outputId": "5f7d297f-b543-4d39-bdf7-bc3676e677f5"
      },
      "execution_count": 112,
      "outputs": [
        {
          "output_type": "display_data",
          "data": {
            "text/plain": [
              "<Figure size 432x288 with 1 Axes>"
            ],
            "image/png": "[encoded data removed]"
          },
          "metadata": {
            "needs_background": "light"
          }
        }
      ]
    },
    {
      "cell_type": "code",
      "source": [
        "# A vector of size 15 with values from -1 to 1\n",
        "a = np.linspace(-1, 1, 15)\n",
        "a"
      ],
      "metadata": {
        "colab": {
          "base_uri": "https://localhost:8080/"
        },
        "id": "X4N1TIa8MH4C",
        "outputId": "7bdb0598-fbc7-4d31-a3fc-628b420aa387"
      },
      "execution_count": 113,
      "outputs": [
        {
          "output_type": "execute_result",
          "data": {
            "text/plain": [
              "array([-1.        , -0.85714286, -0.71428571, -0.57142857, -0.42857143,\n",
              "       -0.28571429, -0.14285714,  0.        ,  0.14285714,  0.28571429,\n",
              "        0.42857143,  0.57142857,  0.71428571,  0.85714286,  1.        ])"
            ]
          },
          "metadata": {},
          "execution_count": 113
        }
      ]
    },
    {
      "cell_type": "code",
      "source": [
        "# Applying the hyperbolic cosine function and storing the result in 'b'\n",
        "b = torch.cosh(torch.FloatTensor(a))\n",
        "b"
      ],
      "metadata": {
        "colab": {
          "base_uri": "https://localhost:8080/"
        },
        "id": "fFGmeH2BMMSI",
        "outputId": "9c0d6575-cc06-4c96-a14d-86170e99cf91"
      },
      "execution_count": 114,
      "outputs": [
        {
          "output_type": "execute_result",
          "data": {
            "text/plain": [
              "tensor([1.5431, 1.3904, 1.2661, 1.1678, 1.0933, 1.0411, 1.0102, 1.0000, 1.0102,\n",
              "        1.0411, 1.0933, 1.1678, 1.2661, 1.3904, 1.5431])"
            ]
          },
          "metadata": {},
          "execution_count": 114
        }
      ]
    },
    {
      "cell_type": "code",
      "source": [
        "# Plotting\n",
        "plt.plot(a, b.numpy(), color = 'red', marker = \"o\") \n",
        "plt.title(\"torch.cosh\") \n",
        "plt.xlabel(\"X\") \n",
        "plt.ylabel(\"Y\") \n",
        "  \n",
        "plt.show()"
      ],
      "metadata": {
        "colab": {
          "base_uri": "https://localhost:8080/",
          "height": 0
        },
        "id": "wmktk6_iMRUh",
        "outputId": "09f6271f-45ef-430e-85ff-3faeaec11f64"
      },
      "execution_count": 115,
      "outputs": [
        {
          "output_type": "display_data",
          "data": {
            "text/plain": [
              "<Figure size 432x288 with 1 Axes>"
            ],
            "image/png": "[encoded data removed]"
          },
          "metadata": {
            "needs_background": "light"
          }
        }
      ]
    },
    {
      "cell_type": "markdown",
      "source": [
        "#### Tanh Function"
      ],
      "metadata": {
        "id": "fUmih5vwMjhv"
      }
    },
    {
      "cell_type": "code",
      "source": [
        "# A constant tensor of size 6\n",
        "a = torch.FloatTensor([1.0, -0.5, 3.4, -2.1, 0.0, -6.5])\n",
        "print(a)"
      ],
      "metadata": {
        "colab": {
          "base_uri": "https://localhost:8080/"
        },
        "id": "w5nR9GjEMVCw",
        "outputId": "23617a18-5d77-47f5-c1c2-0e986a8dbb90"
      },
      "execution_count": 116,
      "outputs": [
        {
          "output_type": "stream",
          "name": "stdout",
          "text": [
            "tensor([ 1.0000, -0.5000,  3.4000, -2.1000,  0.0000, -6.5000])\n"
          ]
        }
      ]
    },
    {
      "cell_type": "code",
      "source": [
        "# Applying the tanh function and storing the result in 'b'\n",
        "b = torch.tanh(a)\n",
        "print(b)"
      ],
      "metadata": {
        "colab": {
          "base_uri": "https://localhost:8080/"
        },
        "id": "H8WnNhnvMwsa",
        "outputId": "b22418db-3ac7-413f-8f79-9213d0f5b6cf"
      },
      "execution_count": 117,
      "outputs": [
        {
          "output_type": "stream",
          "name": "stdout",
          "text": [
            "tensor([ 0.7616, -0.4621,  0.9978, -0.9705,  0.0000, -1.0000])\n"
          ]
        }
      ]
    },
    {
      "cell_type": "code",
      "source": [
        "plt.plot(a, b.numpy(), color = 'red', marker = \"o\") \n",
        "plt.show()"
      ],
      "metadata": {
        "colab": {
          "base_uri": "https://localhost:8080/",
          "height": 0
        },
        "id": "xokWxNrGMxZ1",
        "outputId": "c1ce2a5e-a6e4-4d84-dfe8-4db2ae2a0122"
      },
      "execution_count": 118,
      "outputs": [
        {
          "output_type": "display_data",
          "data": {
            "text/plain": [
              "<Figure size 432x288 with 1 Axes>"
            ],
            "image/png": "[encoded data removed]"
          },
          "metadata": {
            "needs_background": "light"
          }
        }
      ]
    },
    {
      "cell_type": "code",
      "source": [
        "# A vector of size 15 with values from -5 to 5\n",
        "a = np.linspace(-5, 5, 15)\n",
        "a"
      ],
      "metadata": {
        "colab": {
          "base_uri": "https://localhost:8080/"
        },
        "id": "_7wF-LVaM6EW",
        "outputId": "443e01ad-3ff1-4142-8a08-e99a1a00f0b9"
      },
      "execution_count": 119,
      "outputs": [
        {
          "output_type": "execute_result",
          "data": {
            "text/plain": [
              "array([-5.        , -4.28571429, -3.57142857, -2.85714286, -2.14285714,\n",
              "       -1.42857143, -0.71428571,  0.        ,  0.71428571,  1.42857143,\n",
              "        2.14285714,  2.85714286,  3.57142857,  4.28571429,  5.        ])"
            ]
          },
          "metadata": {},
          "execution_count": 119
        }
      ]
    },
    {
      "cell_type": "code",
      "source": [
        "# Applying the hyperbolic tangent function and storing the result in 'b'\n",
        "b = torch.tanh(torch.FloatTensor(a))\n",
        "b"
      ],
      "metadata": {
        "colab": {
          "base_uri": "https://localhost:8080/"
        },
        "id": "chhS8KVYNAXz",
        "outputId": "991fbc6b-ebf6-402f-f06f-444bfd47d5e3"
      },
      "execution_count": 120,
      "outputs": [
        {
          "output_type": "execute_result",
          "data": {
            "text/plain": [
              "tensor([-0.9999, -0.9996, -0.9984, -0.9934, -0.9728, -0.8914, -0.6134,  0.0000,\n",
              "         0.6134,  0.8914,  0.9728,  0.9934,  0.9984,  0.9996,  0.9999])"
            ]
          },
          "metadata": {},
          "execution_count": 120
        }
      ]
    },
    {
      "cell_type": "code",
      "source": [
        "# Plotting\n",
        "plt.plot(a, b.numpy(), color = 'limegreen', marker = \"o\")\n",
        "plt.title(\"torch.tanh\")\n",
        "plt.xlabel(\"X\")\n",
        "plt.ylabel(\"Y\")\n",
        " \n",
        "plt.show()"
      ],
      "metadata": {
        "colab": {
          "base_uri": "https://localhost:8080/",
          "height": 0
        },
        "id": "Vmm_59qtNFZa",
        "outputId": "114d3324-a20e-4ed7-fc92-106ff8f0898b"
      },
      "execution_count": 121,
      "outputs": [
        {
          "output_type": "display_data",
          "data": {
            "text/plain": [
              "<Figure size 432x288 with 1 Axes>"
            ],
            "image/png": "[encoded data removed]"
          },
          "metadata": {
            "needs_background": "light"
          }
        }
      ]
    }
  ]
}
